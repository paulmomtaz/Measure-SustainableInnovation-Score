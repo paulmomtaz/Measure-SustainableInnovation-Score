{
 "cells": [
  {
   "cell_type": "markdown",
   "id": "90f91e9e",
   "metadata": {},
   "source": [
    "## 1 - Imports"
   ]
  },
  {
   "cell_type": "code",
   "execution_count": null,
   "id": "b0a0de7e",
   "metadata": {},
   "outputs": [],
   "source": [
    "import pandas as pd\n",
    "import global_options\n",
    "from nltk.tokenize import sent_tokenize\n",
    "from pathlib import Path\n",
    "import stanza\n",
    "from stanza.server import CoreNLPClient\n",
    "import os\n"
   ]
  },
  {
   "cell_type": "markdown",
   "id": "18565b6d",
   "metadata": {},
   "source": [
    "## 2 - Data manipulation"
   ]
  },
  {
   "cell_type": "code",
   "execution_count": 2,
   "id": "2653c0c2",
   "metadata": {},
   "outputs": [],
   "source": [
    "data = pd.read_csv(Path(global_options.DATA_FOLDER, \"input\", \"SustainableInnovation_FinancialTimes.csv\"))\n",
    "\n",
    "# Remove duplicates\n",
    "data = data.drop_duplicates(subset = 'Article title')\n",
    "\n",
    "# Combine columns into 'full_text' and clean up quotation marks\n",
    "data['full_text'] = data['Article title'] + ' ' + data['Article authors'] + ' ' + data['Full article text']\n",
    "\n",
    "# Select the desired columns\n",
    "data = data[['full_text']]\n",
    "\n",
    "# Replace the newline operator as space\n",
    "data['full_text'] = data['full_text'].str.replace('\\n', ' ', regex = False)\n",
    "\n",
    "#\n",
    "data['index'] = range(1, len(data)+1)\n",
    "\n",
    "# Write to text files\n",
    "with open(Path(global_options.DATA_FOLDER, \"input\", \"documents.txt\"), \"w\") as file_docs:\n",
    "    for _, row in data.iterrows():\n",
    "        file_docs.write(f\"{row['full_text']}\\n\")\n",
    "        \n",
    "with open(Path(global_options.DATA_FOLDER, \"input\", \"document_ids.txt\"), \"w\") as file_docs:\n",
    "    for _, row in data.iterrows():\n",
    "        file_docs.write(f\"{row['index']}\\n\")"
   ]
  },
  {
   "cell_type": "markdown",
   "id": "2a55e707",
   "metadata": {},
   "source": [
    "## 3 - Run py files to expand the dictionary"
   ]
  },
  {
   "cell_type": "code",
   "execution_count": 17,
   "id": "13df9184",
   "metadata": {},
   "outputs": [
    {
     "name": "stderr",
     "output_type": "stream",
     "text": [
      "2024-03-16 00:43:46 INFO: Writing properties to tmp file: corenlp_server-aa27c3de77e641ba.props\n",
      "2024-03-16 00:43:46 INFO: Starting server with command: java -Xmx8G -cp /Users/yuruchen/CoreNLP3/* edu.stanford.nlp.pipeline.StanfordCoreNLPServer -port 9005 -timeout 12000000 -threads 2 -maxCharLength 1000000 -quiet False -serverProperties corenlp_server-aa27c3de77e641ba.props -preload -outputFormat serialized\n"
     ]
    },
    {
     "name": "stdout",
     "output_type": "stream",
     "text": [
      "2024-03-16 00:43:47.018371\n",
      "Processing line: 100.\n"
     ]
    },
    {
     "name": "stderr",
     "output_type": "stream",
     "text": [
      "[main] INFO CoreNLP - --- StanfordCoreNLPServer#main() called ---\n",
      "[main] INFO CoreNLP - Server default properties:\n",
      "\t\t\t(Note: unspecified annotator properties are English defaults)\n",
      "\t\t\tannotators = tokenize, ssplit, pos, lemma, ner, depparse\n",
      "\t\t\tinputFormat = text\n",
      "\t\t\tner.applyFineGrained = false\n",
      "\t\t\toutputFormat = serialized\n",
      "\t\t\tprettyPrint = false\n",
      "\t\t\tthreads = 2\n",
      "[main] INFO CoreNLP - Threads: 2\n",
      "[main] INFO edu.stanford.nlp.pipeline.StanfordCoreNLP - Adding annotator tokenize\n",
      "[main] INFO edu.stanford.nlp.pipeline.StanfordCoreNLP - Adding annotator pos\n",
      "[main] INFO edu.stanford.nlp.tagger.maxent.MaxentTagger - Loading POS tagger from edu/stanford/nlp/models/pos-tagger/english-left3words-distsim.tagger ... done [0.9 sec].\n",
      "[main] INFO edu.stanford.nlp.pipeline.StanfordCoreNLP - Adding annotator lemma\n",
      "[main] INFO edu.stanford.nlp.pipeline.StanfordCoreNLP - Adding annotator ner\n",
      "[main] INFO edu.stanford.nlp.ie.AbstractSequenceClassifier - Loading classifier from edu/stanford/nlp/models/ner/english.all.3class.distsim.crf.ser.gz ... done [1.4 sec].\n",
      "[main] INFO edu.stanford.nlp.ie.AbstractSequenceClassifier - Loading classifier from edu/stanford/nlp/models/ner/english.muc.7class.distsim.crf.ser.gz ... done [0.7 sec].\n",
      "[main] INFO edu.stanford.nlp.ie.AbstractSequenceClassifier - Loading classifier from edu/stanford/nlp/models/ner/english.conll.4class.distsim.crf.ser.gz ... done [0.5 sec].\n",
      "[main] INFO edu.stanford.nlp.time.JollyDayHolidays - Initializing JollyDayHoliday for SUTime from classpath edu/stanford/nlp/models/sutime/jollyday/Holidays_sutime.xml as sutime.binder.1.\n",
      "[main] INFO edu.stanford.nlp.time.TimeExpressionExtractorImpl - Using following SUTime rules: edu/stanford/nlp/models/sutime/defs.sutime.txt,edu/stanford/nlp/models/sutime/english.sutime.txt,edu/stanford/nlp/models/sutime/english.holidays.sutime.txt\n",
      "[main] INFO edu.stanford.nlp.pipeline.NERCombinerAnnotator - numeric classifiers: true; SUTime: true [no docDate]; fine grained: false\n",
      "[main] INFO edu.stanford.nlp.pipeline.StanfordCoreNLP - Adding annotator depparse\n",
      "[main] INFO edu.stanford.nlp.parser.nndep.DependencyParser - Loading depparse model: edu/stanford/nlp/models/parser/nndep/english_UD.gz ... Time elapsed: 1.8 sec\n",
      "[main] INFO edu.stanford.nlp.parser.nndep.Classifier - PreComputed 20000 vectors, elapsed Time: 1.126 sec\n",
      "[main] INFO edu.stanford.nlp.parser.nndep.DependencyParser - Initializing dependency parser ... done [3.0 sec].\n",
      "[main] INFO CoreNLP - Starting server...\n",
      "[main] INFO CoreNLP - StanfordCoreNLPServer listening at /0:0:0:0:0:0:0:0:9005\n"
     ]
    },
    {
     "name": "stdout",
     "output_type": "stream",
     "text": [
      "2024-03-16 00:49:47.424619\n",
      "Processing line: 200.\n",
      "2024-03-16 00:55:37.072096\n",
      "Processing line: 300.\n",
      "2024-03-16 01:01:09.310444\n",
      "Processing line: 400.\n",
      "2024-03-16 01:06:49.155316\n",
      "Processing line: 500.\n",
      "2024-03-16 01:12:14.031469\n",
      "Processing line: 600.\n",
      "2024-03-16 01:17:30.363286\n",
      "Processing line: 700.\n",
      "2024-03-16 01:22:16.260370\n",
      "Processing line: 800.\n",
      "2024-03-16 01:27:23.632465\n",
      "Processing line: 900.\n",
      "2024-03-16 01:32:36.107924\n",
      "Processing line: 1000.\n",
      "2024-03-16 01:38:37.184010\n",
      "Processing line: 1100.\n",
      "2024-03-16 01:44:47.765442\n",
      "Processing line: 1200.\n",
      "2024-03-16 01:50:28.909348\n",
      "Processing line: 1300.\n",
      "2024-03-16 01:55:49.627356\n",
      "Processing line: 1400.\n",
      "2024-03-16 02:00:54.302903\n",
      "Processing line: 1500.\n",
      "2024-03-16 02:06:20.018923\n",
      "Processing line: 1600.\n",
      "2024-03-16 02:11:30.199081\n",
      "Processing line: 1700.\n",
      "2024-03-16 02:17:17.176778\n",
      "Processing line: 1800.\n",
      "2024-03-16 02:22:50.930291\n",
      "Processing line: 1900.\n",
      "2024-03-16 02:29:00.241419\n",
      "Processing line: 2000.\n",
      "2024-03-16 02:35:42.840330\n",
      "Processing line: 2100.\n",
      "2024-03-16 02:41:50.669643\n",
      "Processing line: 2200.\n",
      "2024-03-16 02:47:24.192065\n",
      "Processing line: 2300.\n",
      "2024-03-16 02:52:27.936963\n",
      "Processing line: 2400.\n",
      "2024-03-16 02:58:08.182507\n",
      "Processing line: 2500.\n",
      "2024-03-16 03:04:24.688323\n",
      "Processing line: 2600.\n",
      "2024-03-16 03:10:01.556705\n",
      "Processing line: 2700.\n",
      "2024-03-16 03:15:23.495007\n",
      "Processing line: 2800.\n",
      "2024-03-16 03:21:42.056847\n",
      "Processing line: 2900.\n",
      "2024-03-16 03:28:36.791607\n",
      "Processing line: 3000.\n",
      "2024-03-16 03:34:00.716477\n",
      "Processing line: 3100.\n",
      "2024-03-16 03:39:33.777115\n",
      "Processing line: 3200.\n",
      "2024-03-16 03:44:44.786271\n",
      "Processing line: 3300.\n",
      "2024-03-16 03:49:50.977112\n",
      "Processing line: 3400.\n",
      "2024-03-16 03:55:09.706924\n",
      "Processing line: 3500.\n",
      "2024-03-16 04:00:12.954688\n",
      "Processing line: 3600.\n",
      "2024-03-16 04:04:42.099638\n",
      "Processing line: 3700.\n",
      "2024-03-16 04:08:47.999244\n",
      "Processing line: 3800.\n",
      "2024-03-16 04:13:52.683959\n",
      "Processing line: 3900.\n",
      "2024-03-16 04:18:46.527350\n",
      "Processing line: 4000.\n",
      "2024-03-16 04:23:22.536567\n",
      "Processing line: 4100.\n",
      "2024-03-16 04:29:10.636647\n",
      "Processing line: 4200.\n",
      "2024-03-16 04:35:07.732921\n",
      "Processing line: 4300.\n",
      "2024-03-16 04:41:16.793356\n",
      "Processing line: 4400.\n",
      "2024-03-16 04:46:50.845872\n",
      "Processing line: 4500.\n",
      "2024-03-16 04:52:44.597036\n",
      "Processing line: 4600.\n",
      "2024-03-16 04:58:12.972870\n",
      "Processing line: 4700.\n",
      "2024-03-16 05:03:24.907140\n",
      "Processing line: 4800.\n",
      "2024-03-16 05:08:22.971040\n",
      "Processing line: 4900.\n",
      "2024-03-16 05:12:11.152496\n",
      "Processing line: 5000.\n",
      "2024-03-16 05:16:22.079037\n",
      "Processing line: 5100.\n",
      "2024-03-16 05:20:38.007099\n",
      "Processing line: 5200.\n",
      "2024-03-16 05:24:10.235769\n",
      "Processing line: 5300.\n",
      "2024-03-16 05:27:40.055240\n",
      "Processing line: 5400.\n",
      "2024-03-16 05:30:52.303574\n",
      "Processing line: 5500.\n",
      "2024-03-16 05:34:06.946372\n",
      "Processing line: 5600.\n",
      "2024-03-16 05:37:20.903940\n",
      "Processing line: 5700.\n",
      "2024-03-16 05:40:57.501322\n",
      "Processing line: 5800.\n",
      "2024-03-16 05:45:03.015546\n",
      "Processing line: 5900.\n",
      "2024-03-16 05:49:15.932243\n",
      "Processing line: 6000.\n",
      "2024-03-16 05:54:01.233224\n",
      "Processing line: 6100.\n",
      "2024-03-16 05:57:56.246677\n",
      "Processing line: 6200.\n",
      "2024-03-16 06:01:35.582702\n",
      "Processing line: 6300.\n",
      "2024-03-16 06:05:03.468594\n",
      "Processing line: 6400.\n",
      "2024-03-16 06:08:31.162290\n",
      "Processing line: 6500.\n",
      "2024-03-16 06:10:17.899250\n",
      "Processing line: 6600.\n",
      "2024-03-16 06:11:59.850286\n",
      "Processing line: 6700.\n",
      "2024-03-16 06:13:48.068732\n",
      "Processing line: 6800.\n",
      "2024-03-16 06:15:26.932041\n",
      "Processing line: 6900.\n",
      "2024-03-16 06:17:13.016794\n",
      "Processing line: 7000.\n",
      "2024-03-16 06:19:11.366425\n",
      "Processing line: 7100.\n",
      "2024-03-16 06:20:47.597809\n",
      "Processing line: 7200.\n",
      "2024-03-16 06:22:28.697051\n",
      "Processing line: 7300.\n",
      "2024-03-16 06:24:27.072836\n",
      "Processing line: 7400.\n",
      "2024-03-16 06:26:16.067813\n",
      "Processing line: 7500.\n",
      "2024-03-16 06:28:17.108945\n",
      "Processing line: 7600.\n",
      "2024-03-16 06:30:06.318862\n",
      "Processing line: 7700.\n",
      "2024-03-16 06:32:01.489797\n",
      "Processing line: 7800.\n",
      "2024-03-16 06:33:39.225600\n",
      "Processing line: 7900.\n",
      "2024-03-16 06:35:01.099037\n",
      "Processing line: 8000.\n",
      "2024-03-16 06:36:24.643160\n",
      "Processing line: 8100.\n",
      "2024-03-16 06:37:51.945106\n",
      "Processing line: 8200.\n",
      "2024-03-16 06:39:38.338082\n",
      "Processing line: 8300.\n",
      "2024-03-16 06:41:21.250782\n",
      "Processing line: 8400.\n",
      "2024-03-16 06:43:23.361332\n",
      "Processing line: 8500.\n",
      "2024-03-16 06:45:19.552084\n",
      "Processing line: 8600.\n",
      "2024-03-16 06:47:03.856094\n",
      "Processing line: 8700.\n",
      "2024-03-16 06:48:54.626545\n",
      "Processing line: 8800.\n",
      "2024-03-16 06:50:33.322522\n",
      "Processing line: 8900.\n",
      "2024-03-16 06:51:55.170172\n",
      "Processing line: 9000.\n",
      "2024-03-16 06:53:34.723483\n",
      "Processing line: 9100.\n",
      "2024-03-16 06:55:20.187747\n",
      "Processing line: 9200.\n",
      "2024-03-16 06:57:25.980852\n",
      "Processing line: 9300.\n",
      "2024-03-16 06:59:47.425572\n",
      "Processing line: 9400.\n",
      "2024-03-16 07:02:19.019589\n",
      "Processing line: 9500.\n",
      "2024-03-16 07:04:25.267494\n",
      "Processing line: 9600.\n",
      "2024-03-16 07:06:52.723476\n",
      "Processing line: 9700.\n",
      "2024-03-16 07:09:23.239891\n",
      "Processing line: 9800.\n",
      "2024-03-16 07:11:21.821557\n",
      "Processing line: 9900.\n",
      "2024-03-16 07:12:56.318066\n",
      "Processing line: 10000.\n",
      "2024-03-16 07:14:34.086159\n",
      "Processing line: 10100.\n",
      "2024-03-16 07:16:23.879797\n",
      "Processing line: 10200.\n",
      "2024-03-16 07:18:12.759378\n",
      "Processing line: 10300.\n",
      "2024-03-16 07:19:33.156186\n",
      "Processing line: 10400.\n",
      "2024-03-16 07:21:04.265635\n",
      "Processing line: 10500.\n",
      "2024-03-16 07:22:24.761646\n",
      "Processing line: 10600.\n",
      "2024-03-16 07:24:14.851098\n",
      "Processing line: 10700.\n",
      "2024-03-16 07:25:57.127349\n",
      "Processing line: 10800.\n",
      "2024-03-16 07:27:36.267176\n",
      "Processing line: 10900.\n",
      "2024-03-16 07:29:29.470883\n",
      "Processing line: 11000.\n",
      "2024-03-16 07:31:03.435849\n",
      "Processing line: 11100.\n",
      "2024-03-16 07:32:17.316230\n",
      "Processing line: 11200.\n",
      "2024-03-16 07:33:57.528044\n",
      "Processing line: 11300.\n",
      "2024-03-16 07:35:41.987519\n",
      "Processing line: 11400.\n",
      "2024-03-16 07:37:26.777684\n",
      "Processing line: 11500.\n",
      "2024-03-16 07:39:40.760519\n",
      "Processing line: 11600.\n",
      "2024-03-16 07:41:25.741247\n",
      "Processing line: 11700.\n",
      "2024-03-16 07:43:19.567305\n",
      "Processing line: 11800.\n",
      "2024-03-16 07:45:13.660822\n",
      "Processing line: 11900.\n",
      "2024-03-16 07:47:02.266033\n",
      "Processing line: 12000.\n",
      "2024-03-16 07:48:32.646401\n",
      "Processing line: 12100.\n",
      "2024-03-16 07:50:13.622594\n",
      "Processing line: 12200.\n",
      "2024-03-16 07:51:47.228257\n",
      "Processing line: 12300.\n",
      "2024-03-16 07:53:31.681861\n",
      "Processing line: 12400.\n",
      "2024-03-16 07:55:23.385666\n",
      "Processing line: 12500.\n",
      "2024-03-16 07:57:17.957257\n",
      "Processing line: 12600.\n",
      "2024-03-16 07:58:52.207036\n",
      "Processing line: 12700.\n",
      "2024-03-16 08:00:39.899494\n",
      "Processing line: 12800.\n",
      "2024-03-16 08:02:16.460706\n",
      "Processing line: 12900.\n",
      "2024-03-16 08:04:01.929531\n",
      "Processing line: 13000.\n",
      "2024-03-16 08:05:51.152158\n",
      "Processing line: 13100.\n",
      "2024-03-16 08:07:27.504880\n",
      "Processing line: 13200.\n",
      "2024-03-16 08:09:10.485101\n",
      "Processing line: 13300.\n",
      "2024-03-16 08:10:59.513856\n",
      "Processing line: 13400.\n",
      "2024-03-16 08:12:44.302688\n",
      "Processing line: 13500.\n",
      "2024-03-16 08:14:51.052218\n",
      "Processing line: 13600.\n",
      "2024-03-16 08:16:39.945621\n",
      "Processing line: 13700.\n",
      "2024-03-16 08:18:28.942813\n",
      "Processing line: 13800.\n",
      "2024-03-16 08:20:06.403375\n",
      "Processing line: 13900.\n",
      "2024-03-16 08:21:36.820974\n",
      "Processing line: 14000.\n",
      "2024-03-16 08:23:15.297257\n",
      "Processing line: 14100.\n",
      "2024-03-16 08:24:57.914650\n",
      "Processing line: 14200.\n",
      "2024-03-16 08:26:50.118504\n",
      "Processing line: 14300.\n",
      "2024-03-16 08:28:25.114819\n",
      "Processing line: 14400.\n",
      "2024-03-16 08:30:17.257808\n",
      "Processing line: 14500.\n",
      "2024-03-16 08:32:01.930428\n",
      "Processing line: 14600.\n",
      "2024-03-16 08:34:00.477579\n",
      "Processing line: 14700.\n",
      "2024-03-16 08:35:37.304136\n",
      "Processing line: 14800.\n",
      "2024-03-16 08:37:21.708306\n",
      "Processing line: 14900.\n",
      "2024-03-16 08:38:58.131590\n",
      "Processing line: 15000.\n",
      "2024-03-16 08:40:41.213432\n",
      "Processing line: 15100.\n",
      "2024-03-16 08:42:31.478406\n",
      "Processing line: 15200.\n",
      "2024-03-16 08:44:22.909334\n",
      "Processing line: 15300.\n",
      "2024-03-16 08:45:53.076275\n",
      "Processing line: 15400.\n",
      "2024-03-16 08:47:24.009936\n",
      "Processing line: 15500.\n",
      "2024-03-16 08:49:06.716137\n",
      "Processing line: 15600.\n",
      "2024-03-16 08:51:07.665646\n",
      "Processing line: 15700.\n",
      "2024-03-16 08:52:38.893442\n",
      "Processing line: 15800.\n",
      "2024-03-16 08:54:38.106976\n",
      "Processing line: 15900.\n",
      "2024-03-16 08:56:38.261442\n",
      "Processing line: 16000.\n",
      "2024-03-16 08:58:20.620843\n",
      "Processing line: 16100.\n",
      "2024-03-16 09:00:44.797483\n",
      "Processing line: 16200.\n",
      "2024-03-16 09:03:13.776943\n",
      "Processing line: 16300.\n",
      "2024-03-16 09:05:22.577920\n",
      "Processing line: 16400.\n"
     ]
    },
    {
     "name": "stdout",
     "output_type": "stream",
     "text": [
      "2024-03-16 09:07:01.330132\n",
      "Processing line: 16500.\n"
     ]
    },
    {
     "name": "stderr",
     "output_type": "stream",
     "text": [
      "[Thread-0] INFO CoreNLP - CoreNLP Server is shutting down.\n"
     ]
    }
   ],
   "source": [
    "%run parse_parallel.py"
   ]
  },
  {
   "cell_type": "code",
   "execution_count": 3,
   "id": "73282975",
   "metadata": {},
   "outputs": [
    {
     "name": "stdout",
     "output_type": "stream",
     "text": [
      "2024-03-16 11:52:14.235905\n",
      "Processing line: 200000.\n",
      "2024-03-16 11:52:24.423754\n",
      "Processing line: 400000.\n",
      "2024-03-16 11:52:35.670688\n",
      "Processing line: 600000.\n",
      "2024-03-16 11:52:46.389422\n",
      "Processing line: 800000.\n",
      "2024-03-16 11:52:58.203864\n",
      "Processing line: 1000000.\n",
      "2024-03-16 11:53:02.520718\n",
      "Training phraser...\n",
      "DEBUG:gensim.models.word2vec:single file given as source, rather than a directory of files\n",
      "DEBUG:gensim.models.word2vec:consider using models.word2vec.LineSentence for a single file\n",
      "INFO:gensim.models.word2vec:files read into PathLineSentences:data/processed/unigram/documents.txt\n"
     ]
    },
    {
     "name": "stderr",
     "output_type": "stream",
     "text": [
      "\r",
      "  0%|                                                | 0/878099 [00:00<?, ?it/s]"
     ]
    },
    {
     "name": "stdout",
     "output_type": "stream",
     "text": [
      "INFO:gensim.models.phrases:collecting all words and their counts\n",
      "INFO:gensim.models.word2vec:reading file data/processed/unigram/documents.txt\n",
      "DEBUG:smart_open.smart_open_lib:{'uri': 'data/processed/unigram/documents.txt', 'mode': 'rb', 'buffering': -1, 'encoding': None, 'errors': None, 'newline': None, 'closefd': True, 'opener': None, 'compression': 'infer_from_extension', 'transport_params': None}\n",
      "INFO:gensim.models.phrases:PROGRESS: at sentence #0, processed 0 words and 0 word types\n"
     ]
    },
    {
     "name": "stderr",
     "output_type": "stream",
     "text": [
      "\r",
      "  1%|▏                                 | 4662/878099 [00:00<00:18, 46505.18it/s]"
     ]
    },
    {
     "name": "stdout",
     "output_type": "stream",
     "text": [
      "INFO:gensim.models.phrases:PROGRESS: at sentence #10000, processed 104693 words and 84708 word types\n"
     ]
    },
    {
     "name": "stderr",
     "output_type": "stream",
     "text": [
      "  2%|▌                                | 15569/878099 [00:00<00:16, 51850.74it/s]"
     ]
    },
    {
     "name": "stdout",
     "output_type": "stream",
     "text": [
      "INFO:gensim.models.phrases:PROGRESS: at sentence #20000, processed 218214 words and 156883 word types\n"
     ]
    },
    {
     "name": "stderr",
     "output_type": "stream",
     "text": [
      "  3%|▉                                | 25916/878099 [00:00<00:18, 46678.88it/s]"
     ]
    },
    {
     "name": "stdout",
     "output_type": "stream",
     "text": [
      "INFO:gensim.models.phrases:PROGRESS: at sentence #30000, processed 332959 words and 221705 word types\n"
     ]
    },
    {
     "name": "stderr",
     "output_type": "stream",
     "text": [
      "  4%|█▎                               | 35721/878099 [00:00<00:17, 48056.62it/s]"
     ]
    },
    {
     "name": "stdout",
     "output_type": "stream",
     "text": [
      "INFO:gensim.models.phrases:PROGRESS: at sentence #40000, processed 447220 words and 281980 word types\n"
     ]
    },
    {
     "name": "stderr",
     "output_type": "stream",
     "text": [
      "  5%|█▋                               | 45358/878099 [00:00<00:17, 46335.61it/s]"
     ]
    },
    {
     "name": "stdout",
     "output_type": "stream",
     "text": [
      "INFO:gensim.models.phrases:PROGRESS: at sentence #50000, processed 558613 words and 338356 word types\n"
     ]
    },
    {
     "name": "stderr",
     "output_type": "stream",
     "text": [
      "  7%|██▏                              | 59728/878099 [00:01<00:19, 41380.78it/s]"
     ]
    },
    {
     "name": "stdout",
     "output_type": "stream",
     "text": [
      "INFO:gensim.models.phrases:PROGRESS: at sentence #60000, processed 670105 words and 395697 word types\n"
     ]
    },
    {
     "name": "stderr",
     "output_type": "stream",
     "text": [
      "  8%|██▌                              | 68701/878099 [00:01<00:18, 43070.33it/s]"
     ]
    },
    {
     "name": "stdout",
     "output_type": "stream",
     "text": [
      "INFO:gensim.models.phrases:PROGRESS: at sentence #70000, processed 788447 words and 455109 word types\n"
     ]
    },
    {
     "name": "stderr",
     "output_type": "stream",
     "text": [
      "  9%|██▉                              | 78027/878099 [00:01<00:17, 44777.09it/s]"
     ]
    },
    {
     "name": "stdout",
     "output_type": "stream",
     "text": [
      "INFO:gensim.models.phrases:PROGRESS: at sentence #80000, processed 901934 words and 510004 word types\n"
     ]
    },
    {
     "name": "stderr",
     "output_type": "stream",
     "text": [
      " 10%|███▎                             | 86795/878099 [00:02<00:22, 35862.84it/s]"
     ]
    },
    {
     "name": "stdout",
     "output_type": "stream",
     "text": [
      "INFO:gensim.models.phrases:PROGRESS: at sentence #90000, processed 1011083 words and 562562 word types\n"
     ]
    },
    {
     "name": "stderr",
     "output_type": "stream",
     "text": [
      " 11%|███▋                             | 99484/878099 [00:02<00:19, 39746.69it/s]"
     ]
    },
    {
     "name": "stdout",
     "output_type": "stream",
     "text": [
      "INFO:gensim.models.phrases:PROGRESS: at sentence #100000, processed 1124552 words and 619426 word types\n"
     ]
    },
    {
     "name": "stderr",
     "output_type": "stream",
     "text": [
      " 12%|███▉                            | 108853/878099 [00:02<00:17, 43255.90it/s]"
     ]
    },
    {
     "name": "stdout",
     "output_type": "stream",
     "text": [
      "INFO:gensim.models.phrases:PROGRESS: at sentence #110000, processed 1237503 words and 678364 word types\n"
     ]
    },
    {
     "name": "stderr",
     "output_type": "stream",
     "text": [
      " 13%|████▎                           | 117282/878099 [00:02<00:22, 34453.82it/s]"
     ]
    },
    {
     "name": "stdout",
     "output_type": "stream",
     "text": [
      "INFO:gensim.models.phrases:PROGRESS: at sentence #120000, processed 1349159 words and 736092 word types\n"
     ]
    },
    {
     "name": "stderr",
     "output_type": "stream",
     "text": [
      " 15%|████▋                           | 129985/878099 [00:03<00:22, 32851.25it/s]"
     ]
    },
    {
     "name": "stdout",
     "output_type": "stream",
     "text": [
      "INFO:gensim.models.phrases:PROGRESS: at sentence #130000, processed 1459504 words and 787598 word types\n"
     ]
    },
    {
     "name": "stderr",
     "output_type": "stream",
     "text": [
      " 16%|█████                           | 137965/878099 [00:03<00:21, 35176.31it/s]"
     ]
    },
    {
     "name": "stdout",
     "output_type": "stream",
     "text": [
      "INFO:gensim.models.phrases:PROGRESS: at sentence #140000, processed 1570464 words and 833498 word types\n"
     ]
    },
    {
     "name": "stderr",
     "output_type": "stream",
     "text": [
      " 17%|█████▍                          | 147867/878099 [00:03<00:17, 41978.18it/s]"
     ]
    },
    {
     "name": "stdout",
     "output_type": "stream",
     "text": [
      "INFO:gensim.models.phrases:PROGRESS: at sentence #150000, processed 1681022 words and 877956 word types\n"
     ]
    },
    {
     "name": "stderr",
     "output_type": "stream",
     "text": [
      " 18%|█████▋                          | 156886/878099 [00:03<00:16, 42821.43it/s]"
     ]
    },
    {
     "name": "stdout",
     "output_type": "stream",
     "text": [
      "INFO:gensim.models.phrases:PROGRESS: at sentence #160000, processed 1787351 words and 920598 word types\n"
     ]
    },
    {
     "name": "stderr",
     "output_type": "stream",
     "text": [
      " 19%|██████▏                         | 169164/878099 [00:04<00:18, 37697.67it/s]"
     ]
    },
    {
     "name": "stdout",
     "output_type": "stream",
     "text": [
      "INFO:gensim.models.phrases:PROGRESS: at sentence #170000, processed 1894541 words and 969866 word types\n"
     ]
    },
    {
     "name": "stderr",
     "output_type": "stream",
     "text": [
      " 20%|██████▍                         | 178069/878099 [00:04<00:16, 41290.77it/s]"
     ]
    },
    {
     "name": "stdout",
     "output_type": "stream",
     "text": [
      "INFO:gensim.models.phrases:PROGRESS: at sentence #180000, processed 1998868 words and 1011325 word types\n"
     ]
    },
    {
     "name": "stderr",
     "output_type": "stream",
     "text": [
      " 22%|██████▉                         | 189192/878099 [00:04<00:22, 30692.99it/s]"
     ]
    },
    {
     "name": "stdout",
     "output_type": "stream",
     "text": [
      "INFO:gensim.models.phrases:PROGRESS: at sentence #190000, processed 2110460 words and 1056821 word types\n"
     ]
    },
    {
     "name": "stderr",
     "output_type": "stream",
     "text": [
      " 22%|███████▏                        | 197539/878099 [00:04<00:18, 36038.77it/s]"
     ]
    },
    {
     "name": "stdout",
     "output_type": "stream",
     "text": [
      "INFO:gensim.models.phrases:PROGRESS: at sentence #200000, processed 2214717 words and 1097121 word types\n"
     ]
    },
    {
     "name": "stderr",
     "output_type": "stream",
     "text": [
      " 23%|███████▌                        | 205969/878099 [00:05<00:17, 39280.95it/s]"
     ]
    },
    {
     "name": "stdout",
     "output_type": "stream",
     "text": [
      "INFO:gensim.models.phrases:PROGRESS: at sentence #210000, processed 2325317 words and 1141462 word types\n"
     ]
    },
    {
     "name": "stderr",
     "output_type": "stream",
     "text": [
      " 25%|███████▊                        | 215797/878099 [00:05<00:14, 44155.94it/s]"
     ]
    },
    {
     "name": "stdout",
     "output_type": "stream",
     "text": [
      "INFO:gensim.models.phrases:PROGRESS: at sentence #220000, processed 2428438 words and 1184704 word types\n"
     ]
    },
    {
     "name": "stderr",
     "output_type": "stream",
     "text": [
      " 26%|████████▎                       | 229726/878099 [00:05<00:14, 44691.22it/s]"
     ]
    },
    {
     "name": "stdout",
     "output_type": "stream",
     "text": [
      "INFO:gensim.models.phrases:PROGRESS: at sentence #230000, processed 2538999 words and 1228802 word types\n"
     ]
    },
    {
     "name": "stderr",
     "output_type": "stream",
     "text": [
      " 27%|████████▋                       | 239221/878099 [00:05<00:14, 43991.01it/s]"
     ]
    },
    {
     "name": "stdout",
     "output_type": "stream",
     "text": [
      "INFO:gensim.models.phrases:PROGRESS: at sentence #240000, processed 2651202 words and 1274273 word types\n"
     ]
    },
    {
     "name": "stderr",
     "output_type": "stream",
     "text": [
      " 28%|█████████                       | 247791/878099 [00:06<00:17, 35404.35it/s]"
     ]
    },
    {
     "name": "stdout",
     "output_type": "stream",
     "text": [
      "INFO:gensim.models.phrases:PROGRESS: at sentence #250000, processed 2762200 words and 1319309 word types\n"
     ]
    },
    {
     "name": "stderr",
     "output_type": "stream",
     "text": [
      " 29%|█████████▍                      | 257967/878099 [00:06<00:20, 30612.90it/s]"
     ]
    },
    {
     "name": "stdout",
     "output_type": "stream",
     "text": [
      "INFO:gensim.models.phrases:PROGRESS: at sentence #260000, processed 2874579 words and 1365048 word types\n"
     ]
    },
    {
     "name": "stderr",
     "output_type": "stream",
     "text": [
      " 31%|█████████▊                      | 269051/878099 [00:06<00:20, 29211.29it/s]"
     ]
    },
    {
     "name": "stdout",
     "output_type": "stream",
     "text": [
      "INFO:gensim.models.phrases:PROGRESS: at sentence #270000, processed 2985060 words and 1416672 word types\n"
     ]
    },
    {
     "name": "stderr",
     "output_type": "stream",
     "text": [
      " 31%|██████████                      | 276535/878099 [00:07<00:18, 33110.17it/s]"
     ]
    },
    {
     "name": "stdout",
     "output_type": "stream",
     "text": [
      "INFO:gensim.models.phrases:PROGRESS: at sentence #280000, processed 3097558 words and 1469699 word types\n"
     ]
    },
    {
     "name": "stderr",
     "output_type": "stream",
     "text": [
      " 33%|██████████▌                     | 288477/878099 [00:07<00:15, 37798.79it/s]"
     ]
    },
    {
     "name": "stdout",
     "output_type": "stream",
     "text": [
      "INFO:gensim.models.phrases:PROGRESS: at sentence #290000, processed 3209575 words and 1521103 word types\n"
     ]
    },
    {
     "name": "stderr",
     "output_type": "stream",
     "text": [
      " 34%|██████████▊                     | 296508/878099 [00:07<00:14, 38799.17it/s]"
     ]
    },
    {
     "name": "stdout",
     "output_type": "stream",
     "text": [
      "INFO:gensim.models.phrases:PROGRESS: at sentence #300000, processed 3316288 words and 1573362 word types\n"
     ]
    },
    {
     "name": "stderr",
     "output_type": "stream",
     "text": [
      " 35%|███████████▏                    | 308401/878099 [00:07<00:15, 37030.17it/s]"
     ]
    },
    {
     "name": "stdout",
     "output_type": "stream",
     "text": [
      "INFO:gensim.models.phrases:PROGRESS: at sentence #310000, processed 3420206 words and 1620835 word types\n"
     ]
    },
    {
     "name": "stderr",
     "output_type": "stream",
     "text": [
      " 36%|███████████▌                    | 316876/878099 [00:08<00:14, 39795.00it/s]"
     ]
    },
    {
     "name": "stdout",
     "output_type": "stream",
     "text": [
      "INFO:gensim.models.phrases:PROGRESS: at sentence #320000, processed 3530317 words and 1672259 word types\n"
     ]
    },
    {
     "name": "stderr",
     "output_type": "stream",
     "text": [
      " 37%|███████████▉                    | 328967/878099 [00:08<00:14, 38660.22it/s]"
     ]
    },
    {
     "name": "stdout",
     "output_type": "stream",
     "text": [
      "INFO:gensim.models.phrases:PROGRESS: at sentence #330000, processed 3642384 words and 1723679 word types\n"
     ]
    },
    {
     "name": "stderr",
     "output_type": "stream",
     "text": [
      " 38%|████████████▎                   | 338068/878099 [00:08<00:13, 40851.90it/s]"
     ]
    },
    {
     "name": "stdout",
     "output_type": "stream",
     "text": [
      "INFO:gensim.models.phrases:PROGRESS: at sentence #340000, processed 3750758 words and 1772176 word types\n"
     ]
    },
    {
     "name": "stderr",
     "output_type": "stream",
     "text": [
      " 39%|████████████▋                   | 346597/878099 [00:08<00:12, 41721.23it/s]"
     ]
    },
    {
     "name": "stdout",
     "output_type": "stream",
     "text": [
      "INFO:gensim.models.phrases:PROGRESS: at sentence #350000, processed 3864840 words and 1815447 word types\n"
     ]
    },
    {
     "name": "stderr",
     "output_type": "stream",
     "text": [
      " 41%|█████████████                   | 358824/878099 [00:09<00:13, 38769.73it/s]"
     ]
    },
    {
     "name": "stdout",
     "output_type": "stream",
     "text": [
      "INFO:gensim.models.phrases:PROGRESS: at sentence #360000, processed 3982758 words and 1852213 word types\n"
     ]
    },
    {
     "name": "stderr",
     "output_type": "stream",
     "text": [
      " 42%|█████████████▎                  | 366681/878099 [00:09<00:13, 37861.27it/s]"
     ]
    },
    {
     "name": "stdout",
     "output_type": "stream",
     "text": [
      "INFO:gensim.models.phrases:PROGRESS: at sentence #370000, processed 4096141 words and 1890400 word types\n"
     ]
    },
    {
     "name": "stderr",
     "output_type": "stream",
     "text": [
      " 43%|█████████████▊                  | 379929/878099 [00:09<00:12, 41462.09it/s]"
     ]
    },
    {
     "name": "stdout",
     "output_type": "stream",
     "text": [
      "INFO:gensim.models.phrases:PROGRESS: at sentence #380000, processed 4204453 words and 1927118 word types\n"
     ]
    },
    {
     "name": "stderr",
     "output_type": "stream",
     "text": [
      " 44%|██████████████▏                 | 388742/878099 [00:09<00:11, 42949.69it/s]"
     ]
    },
    {
     "name": "stdout",
     "output_type": "stream",
     "text": [
      "INFO:gensim.models.phrases:PROGRESS: at sentence #390000, processed 4318542 words and 1965308 word types\n"
     ]
    },
    {
     "name": "stderr",
     "output_type": "stream",
     "text": [
      " 45%|██████████████▍                 | 396808/878099 [00:10<00:13, 35436.55it/s]"
     ]
    },
    {
     "name": "stdout",
     "output_type": "stream",
     "text": [
      "INFO:gensim.models.phrases:PROGRESS: at sentence #400000, processed 4435459 words and 2010775 word types\n"
     ]
    },
    {
     "name": "stderr",
     "output_type": "stream",
     "text": [
      " 47%|██████████████▉                 | 408644/878099 [00:10<00:12, 37786.07it/s]"
     ]
    },
    {
     "name": "stdout",
     "output_type": "stream",
     "text": [
      "INFO:gensim.models.phrases:PROGRESS: at sentence #410000, processed 4551508 words and 2057367 word types\n"
     ]
    },
    {
     "name": "stderr",
     "output_type": "stream",
     "text": [
      " 47%|███████████████▏                | 416631/878099 [00:10<00:12, 37487.37it/s]"
     ]
    },
    {
     "name": "stdout",
     "output_type": "stream",
     "text": [
      "INFO:gensim.models.phrases:PROGRESS: at sentence #420000, processed 4667989 words and 2103350 word types\n"
     ]
    },
    {
     "name": "stderr",
     "output_type": "stream",
     "text": [
      " 48%|███████████████▍                | 425254/878099 [00:10<00:11, 40676.07it/s]"
     ]
    },
    {
     "name": "stdout",
     "output_type": "stream",
     "text": [
      "INFO:gensim.models.phrases:PROGRESS: at sentence #430000, processed 4781991 words and 2147498 word types\n"
     ]
    },
    {
     "name": "stderr",
     "output_type": "stream",
     "text": [
      " 50%|███████████████▉                | 439024/878099 [00:11<00:10, 41669.71it/s]"
     ]
    },
    {
     "name": "stdout",
     "output_type": "stream",
     "text": [
      "INFO:gensim.models.phrases:PROGRESS: at sentence #440000, processed 4894259 words and 2187605 word types\n"
     ]
    },
    {
     "name": "stderr",
     "output_type": "stream",
     "text": [
      " 51%|████████████████▎               | 447406/878099 [00:11<00:10, 39865.60it/s]"
     ]
    },
    {
     "name": "stdout",
     "output_type": "stream",
     "text": [
      "INFO:gensim.models.phrases:PROGRESS: at sentence #450000, processed 5009382 words and 2229279 word types\n"
     ]
    },
    {
     "name": "stderr",
     "output_type": "stream",
     "text": [
      " 52%|████████████████▌               | 455490/878099 [00:11<00:10, 39374.89it/s]"
     ]
    },
    {
     "name": "stdout",
     "output_type": "stream",
     "text": [
      "INFO:gensim.models.phrases:PROGRESS: at sentence #460000, processed 5119987 words and 2267843 word types\n"
     ]
    },
    {
     "name": "stderr",
     "output_type": "stream",
     "text": [
      " 53%|█████████████████               | 468173/878099 [00:12<00:10, 38964.06it/s]"
     ]
    },
    {
     "name": "stdout",
     "output_type": "stream",
     "text": [
      "INFO:gensim.models.phrases:PROGRESS: at sentence #470000, processed 5233241 words and 2303507 word types\n"
     ]
    },
    {
     "name": "stderr",
     "output_type": "stream",
     "text": [
      " 54%|█████████████████▎              | 475980/878099 [00:12<00:10, 37933.87it/s]"
     ]
    },
    {
     "name": "stdout",
     "output_type": "stream",
     "text": [
      "INFO:gensim.models.phrases:PROGRESS: at sentence #480000, processed 5339512 words and 2336119 word types\n"
     ]
    },
    {
     "name": "stderr",
     "output_type": "stream",
     "text": [
      " 56%|█████████████████▊              | 487416/878099 [00:12<00:12, 31822.02it/s]"
     ]
    },
    {
     "name": "stdout",
     "output_type": "stream",
     "text": [
      "INFO:gensim.models.phrases:PROGRESS: at sentence #490000, processed 5447882 words and 2379980 word types\n"
     ]
    },
    {
     "name": "stderr",
     "output_type": "stream",
     "text": [
      " 57%|██████████████████▏             | 498785/878099 [00:12<00:10, 34965.50it/s]"
     ]
    },
    {
     "name": "stdout",
     "output_type": "stream",
     "text": [
      "INFO:gensim.models.phrases:PROGRESS: at sentence #500000, processed 5550721 words and 2419466 word types\n"
     ]
    },
    {
     "name": "stderr",
     "output_type": "stream",
     "text": [
      " 58%|██████████████████▍             | 507574/878099 [00:13<00:09, 39129.63it/s]"
     ]
    },
    {
     "name": "stdout",
     "output_type": "stream",
     "text": [
      "INFO:gensim.models.phrases:PROGRESS: at sentence #510000, processed 5657046 words and 2463450 word types\n"
     ]
    },
    {
     "name": "stderr",
     "output_type": "stream",
     "text": [
      " 59%|██████████████████▉             | 519516/878099 [00:13<00:11, 31922.34it/s]"
     ]
    },
    {
     "name": "stdout",
     "output_type": "stream",
     "text": [
      "INFO:gensim.models.phrases:PROGRESS: at sentence #520000, processed 5759442 words and 2502928 word types\n"
     ]
    },
    {
     "name": "stderr",
     "output_type": "stream",
     "text": [
      " 60%|███████████████████▏            | 526385/878099 [00:13<00:10, 32434.98it/s]"
     ]
    },
    {
     "name": "stdout",
     "output_type": "stream",
     "text": [
      "INFO:gensim.models.phrases:PROGRESS: at sentence #530000, processed 5868421 words and 2537999 word types\n"
     ]
    },
    {
     "name": "stderr",
     "output_type": "stream",
     "text": [
      " 61%|███████████████████▋            | 539181/878099 [00:14<00:08, 39381.36it/s]"
     ]
    },
    {
     "name": "stdout",
     "output_type": "stream",
     "text": [
      "INFO:gensim.models.phrases:PROGRESS: at sentence #540000, processed 5976986 words and 2572795 word types\n"
     ]
    },
    {
     "name": "stderr",
     "output_type": "stream",
     "text": [
      " 62%|███████████████████▉            | 547398/878099 [00:14<00:12, 26159.53it/s]"
     ]
    },
    {
     "name": "stdout",
     "output_type": "stream",
     "text": [
      "INFO:gensim.models.phrases:PROGRESS: at sentence #550000, processed 6082527 words and 2607593 word types\n"
     ]
    },
    {
     "name": "stderr",
     "output_type": "stream",
     "text": [
      " 64%|████████████████████▎           | 557903/878099 [00:14<00:10, 30734.51it/s]"
     ]
    },
    {
     "name": "stdout",
     "output_type": "stream",
     "text": [
      "INFO:gensim.models.phrases:PROGRESS: at sentence #560000, processed 6187193 words and 2640347 word types\n"
     ]
    },
    {
     "name": "stderr",
     "output_type": "stream",
     "text": [
      " 65%|████████████████████▋           | 567551/878099 [00:15<00:11, 26890.54it/s]"
     ]
    },
    {
     "name": "stdout",
     "output_type": "stream",
     "text": [
      "INFO:gensim.models.phrases:PROGRESS: at sentence #570000, processed 6295210 words and 2672903 word types\n"
     ]
    },
    {
     "name": "stderr",
     "output_type": "stream",
     "text": [
      " 66%|█████████████████████           | 577318/878099 [00:15<00:10, 29210.05it/s]"
     ]
    },
    {
     "name": "stdout",
     "output_type": "stream",
     "text": [
      "INFO:gensim.models.phrases:PROGRESS: at sentence #580000, processed 6398404 words and 2703745 word types\n"
     ]
    },
    {
     "name": "stderr",
     "output_type": "stream",
     "text": [
      " 67%|█████████████████████▎          | 586169/878099 [00:15<00:08, 36303.64it/s]"
     ]
    },
    {
     "name": "stdout",
     "output_type": "stream",
     "text": [
      "INFO:gensim.models.phrases:PROGRESS: at sentence #590000, processed 6510641 words and 2734698 word types\n"
     ]
    },
    {
     "name": "stderr",
     "output_type": "stream",
     "text": [
      " 68%|█████████████████████▊          | 598627/878099 [00:16<00:07, 36384.78it/s]"
     ]
    },
    {
     "name": "stdout",
     "output_type": "stream",
     "text": [
      "INFO:gensim.models.phrases:PROGRESS: at sentence #600000, processed 6625616 words and 2765884 word types\n"
     ]
    },
    {
     "name": "stderr",
     "output_type": "stream",
     "text": [
      " 69%|██████████████████████▏         | 608138/878099 [00:16<00:06, 41530.22it/s]"
     ]
    },
    {
     "name": "stdout",
     "output_type": "stream",
     "text": [
      "INFO:gensim.models.phrases:PROGRESS: at sentence #610000, processed 6739628 words and 2801006 word types\n"
     ]
    },
    {
     "name": "stderr",
     "output_type": "stream",
     "text": [
      " 71%|██████████████████████▌         | 619998/878099 [00:16<00:09, 28308.44it/s]"
     ]
    },
    {
     "name": "stdout",
     "output_type": "stream",
     "text": [
      "INFO:gensim.models.phrases:PROGRESS: at sentence #620000, processed 6840448 words and 2835050 word types\n"
     ]
    },
    {
     "name": "stderr",
     "output_type": "stream",
     "text": [
      " 72%|██████████████████████▉         | 629486/878099 [00:17<00:09, 26940.01it/s]"
     ]
    },
    {
     "name": "stdout",
     "output_type": "stream",
     "text": [
      "INFO:gensim.models.phrases:PROGRESS: at sentence #630000, processed 6946484 words and 2870144 word types\n"
     ]
    },
    {
     "name": "stderr",
     "output_type": "stream",
     "text": [
      " 73%|███████████████████████▎        | 638308/878099 [00:17<00:09, 26126.80it/s]"
     ]
    },
    {
     "name": "stdout",
     "output_type": "stream",
     "text": [
      "INFO:gensim.models.phrases:PROGRESS: at sentence #640000, processed 7059927 words and 2910141 word types\n"
     ]
    },
    {
     "name": "stderr",
     "output_type": "stream",
     "text": [
      " 74%|███████████████████████▌        | 647255/878099 [00:17<00:10, 22666.98it/s]"
     ]
    },
    {
     "name": "stdout",
     "output_type": "stream",
     "text": [
      "INFO:gensim.models.phrases:PROGRESS: at sentence #650000, processed 7173250 words and 2946416 word types\n"
     ]
    },
    {
     "name": "stderr",
     "output_type": "stream",
     "text": [
      " 75%|████████████████████████        | 658699/878099 [00:18<00:08, 27258.85it/s]"
     ]
    },
    {
     "name": "stdout",
     "output_type": "stream",
     "text": [
      "INFO:gensim.models.phrases:PROGRESS: at sentence #660000, processed 7291368 words and 2985013 word types\n"
     ]
    },
    {
     "name": "stderr",
     "output_type": "stream",
     "text": [
      " 76%|████████████████████████▎       | 668690/878099 [00:18<00:06, 31450.12it/s]"
     ]
    },
    {
     "name": "stdout",
     "output_type": "stream",
     "text": [
      "INFO:gensim.models.phrases:PROGRESS: at sentence #670000, processed 7407944 words and 3023920 word types\n"
     ]
    },
    {
     "name": "stderr",
     "output_type": "stream",
     "text": [
      " 77%|████████████████████████▋       | 678788/878099 [00:19<00:06, 30063.80it/s]"
     ]
    },
    {
     "name": "stdout",
     "output_type": "stream",
     "text": [
      "INFO:gensim.models.phrases:PROGRESS: at sentence #680000, processed 7520513 words and 3060366 word types\n"
     ]
    },
    {
     "name": "stderr",
     "output_type": "stream",
     "text": [
      " 78%|█████████████████████████       | 687332/878099 [00:19<00:05, 36071.42it/s]"
     ]
    },
    {
     "name": "stdout",
     "output_type": "stream",
     "text": [
      "INFO:gensim.models.phrases:PROGRESS: at sentence #690000, processed 7629195 words and 3095622 word types\n"
     ]
    },
    {
     "name": "stderr",
     "output_type": "stream",
     "text": [
      " 79%|█████████████████████████▍      | 696447/878099 [00:19<00:04, 41185.69it/s]"
     ]
    },
    {
     "name": "stdout",
     "output_type": "stream",
     "text": [
      "INFO:gensim.models.phrases:PROGRESS: at sentence #700000, processed 7733803 words and 3128577 word types\n"
     ]
    },
    {
     "name": "stderr",
     "output_type": "stream",
     "text": [
      " 81%|█████████████████████████▊      | 709350/878099 [00:19<00:04, 40988.77it/s]"
     ]
    },
    {
     "name": "stdout",
     "output_type": "stream",
     "text": [
      "INFO:gensim.models.phrases:PROGRESS: at sentence #710000, processed 7847124 words and 3163857 word types\n"
     ]
    },
    {
     "name": "stderr",
     "output_type": "stream",
     "text": [
      " 82%|██████████████████████████▏     | 718120/878099 [00:19<00:03, 42521.34it/s]"
     ]
    },
    {
     "name": "stdout",
     "output_type": "stream",
     "text": [
      "INFO:gensim.models.phrases:PROGRESS: at sentence #720000, processed 7959056 words and 3199677 word types\n"
     ]
    },
    {
     "name": "stderr",
     "output_type": "stream",
     "text": [
      " 83%|██████████████████████████▌     | 727502/878099 [00:20<00:03, 44975.57it/s]"
     ]
    },
    {
     "name": "stdout",
     "output_type": "stream",
     "text": [
      "INFO:gensim.models.phrases:PROGRESS: at sentence #730000, processed 8068621 words and 3235818 word types\n"
     ]
    },
    {
     "name": "stderr",
     "output_type": "stream",
     "text": [
      " 84%|██████████████████████████▊     | 736710/878099 [00:20<00:03, 45362.96it/s]"
     ]
    },
    {
     "name": "stdout",
     "output_type": "stream",
     "text": [
      "INFO:gensim.models.phrases:PROGRESS: at sentence #740000, processed 8181723 words and 3272573 word types\n"
     ]
    },
    {
     "name": "stderr",
     "output_type": "stream",
     "text": [
      " 85%|███████████████████████████▏    | 745868/878099 [00:20<00:02, 45393.93it/s]"
     ]
    },
    {
     "name": "stdout",
     "output_type": "stream",
     "text": [
      "INFO:gensim.models.phrases:PROGRESS: at sentence #750000, processed 8295324 words and 3307326 word types\n"
     ]
    },
    {
     "name": "stderr",
     "output_type": "stream",
     "text": [
      " 86%|███████████████████████████▌    | 755312/878099 [00:20<00:02, 45716.75it/s]"
     ]
    },
    {
     "name": "stdout",
     "output_type": "stream",
     "text": [
      "INFO:gensim.models.phrases:PROGRESS: at sentence #760000, processed 8414148 words and 3341883 word types\n"
     ]
    },
    {
     "name": "stderr",
     "output_type": "stream",
     "text": [
      " 87%|███████████████████████████▉    | 765250/878099 [00:20<00:02, 47494.87it/s]"
     ]
    },
    {
     "name": "stdout",
     "output_type": "stream",
     "text": [
      "INFO:gensim.models.phrases:PROGRESS: at sentence #770000, processed 8532313 words and 3379169 word types\n"
     ]
    },
    {
     "name": "stderr",
     "output_type": "stream",
     "text": [
      " 88%|████████████████████████████▏   | 775184/878099 [00:21<00:02, 48750.47it/s]"
     ]
    },
    {
     "name": "stdout",
     "output_type": "stream",
     "text": [
      "INFO:gensim.models.phrases:PROGRESS: at sentence #780000, processed 8644019 words and 3416473 word types\n"
     ]
    },
    {
     "name": "stderr",
     "output_type": "stream",
     "text": [
      " 89%|████████████████████████████▋   | 785825/878099 [00:21<00:01, 51015.11it/s]"
     ]
    },
    {
     "name": "stdout",
     "output_type": "stream",
     "text": [
      "INFO:gensim.models.phrases:PROGRESS: at sentence #790000, processed 8754656 words and 3450483 word types\n"
     ]
    },
    {
     "name": "stderr",
     "output_type": "stream",
     "text": [
      " 91%|█████████████████████████████   | 795951/878099 [00:21<00:01, 49828.03it/s]"
     ]
    },
    {
     "name": "stdout",
     "output_type": "stream",
     "text": [
      "INFO:gensim.models.phrases:PROGRESS: at sentence #800000, processed 8867048 words and 3484998 word types\n"
     ]
    },
    {
     "name": "stderr",
     "output_type": "stream",
     "text": [
      " 92%|█████████████████████████████▍  | 807705/878099 [00:21<00:01, 54941.90it/s]"
     ]
    },
    {
     "name": "stdout",
     "output_type": "stream",
     "text": [
      "INFO:gensim.models.phrases:PROGRESS: at sentence #810000, processed 8963007 words and 3513505 word types\n"
     ]
    },
    {
     "name": "stderr",
     "output_type": "stream",
     "text": [
      " 93%|█████████████████████████████▊  | 819235/878099 [00:21<00:01, 53704.68it/s]"
     ]
    },
    {
     "name": "stdout",
     "output_type": "stream",
     "text": [
      "INFO:gensim.models.phrases:PROGRESS: at sentence #820000, processed 9078562 words and 3549784 word types\n"
     ]
    },
    {
     "name": "stderr",
     "output_type": "stream",
     "text": [
      " 95%|██████████████████████████████▏ | 829853/878099 [00:22<00:00, 50010.67it/s]"
     ]
    },
    {
     "name": "stdout",
     "output_type": "stream",
     "text": [
      "INFO:gensim.models.phrases:PROGRESS: at sentence #830000, processed 9191042 words and 3586541 word types\n"
     ]
    },
    {
     "name": "stderr",
     "output_type": "stream",
     "text": [
      " 96%|██████████████████████████████▌ | 839767/878099 [00:22<00:00, 47162.85it/s]"
     ]
    },
    {
     "name": "stdout",
     "output_type": "stream",
     "text": [
      "INFO:gensim.models.phrases:PROGRESS: at sentence #840000, processed 9301362 words and 3633062 word types\n"
     ]
    },
    {
     "name": "stderr",
     "output_type": "stream",
     "text": [
      "\r",
      " 96%|██████████████████████████████▊ | 845048/878099 [00:22<00:00, 48739.63it/s]"
     ]
    },
    {
     "name": "stdout",
     "output_type": "stream",
     "text": [
      "INFO:gensim.models.phrases:PROGRESS: at sentence #850000, processed 9408468 words and 3677556 word types\n"
     ]
    },
    {
     "name": "stderr",
     "output_type": "stream",
     "text": [
      " 98%|███████████████████████████████▏| 857328/878099 [00:22<00:00, 37676.74it/s]"
     ]
    },
    {
     "name": "stdout",
     "output_type": "stream",
     "text": [
      "INFO:gensim.models.phrases:collected 3709981 word types from a corpus of 9488170 words (unigram + bigrams) and 857328 sentences\n",
      "INFO:gensim.models.phrases:using 3709981 counts as vocab in Phrases<0 vocab, min_count=10, threshold=10, max_vocab_size=40000000>\n",
      "INFO:gensim.utils:saving Phrases object under models/phrases/bigram.mod, separately None\n",
      "DEBUG:smart_open.smart_open_lib:{'uri': 'models/phrases/bigram.mod', 'mode': 'wb', 'buffering': -1, 'encoding': None, 'errors': None, 'newline': None, 'closefd': True, 'opener': None, 'compression': 'infer_from_extension', 'transport_params': None}\n"
     ]
    },
    {
     "name": "stderr",
     "output_type": "stream",
     "text": [
      "\n"
     ]
    },
    {
     "name": "stdout",
     "output_type": "stream",
     "text": [
      "INFO:gensim.utils:saved models/phrases/bigram.mod\n",
      "INFO:gensim.utils:loading Phrases object from models/phrases/bigram.mod\n",
      "DEBUG:smart_open.smart_open_lib:{'uri': 'models/phrases/bigram.mod', 'mode': 'rb', 'buffering': -1, 'encoding': None, 'errors': None, 'newline': None, 'closefd': True, 'opener': None, 'compression': 'infer_from_extension', 'transport_params': None}\n",
      "INFO:gensim.utils:loaded models/phrases/bigram.mod\n"
     ]
    },
    {
     "name": "stderr",
     "output_type": "stream",
     "text": [
      "100%|████████████████████████████████| 878099/878099 [00:52<00:00, 16780.22it/s]\n"
     ]
    },
    {
     "name": "stdout",
     "output_type": "stream",
     "text": [
      "2024-03-16 11:54:33.869845\n",
      "Training phraser...\n",
      "DEBUG:gensim.models.word2vec:single file given as source, rather than a directory of files\n",
      "DEBUG:gensim.models.word2vec:consider using models.word2vec.LineSentence for a single file\n",
      "INFO:gensim.models.word2vec:files read into PathLineSentences:data/processed/bigram/documents.txt\n"
     ]
    },
    {
     "name": "stderr",
     "output_type": "stream",
     "text": [
      "\r",
      "  0%|                                                | 0/878099 [00:00<?, ?it/s]"
     ]
    },
    {
     "name": "stdout",
     "output_type": "stream",
     "text": [
      "INFO:gensim.models.phrases:collecting all words and their counts\n",
      "INFO:gensim.models.word2vec:reading file data/processed/bigram/documents.txt\n",
      "DEBUG:smart_open.smart_open_lib:{'uri': 'data/processed/bigram/documents.txt', 'mode': 'rb', 'buffering': -1, 'encoding': None, 'errors': None, 'newline': None, 'closefd': True, 'opener': None, 'compression': 'infer_from_extension', 'transport_params': None}\n",
      "INFO:gensim.models.phrases:PROGRESS: at sentence #0, processed 0 words and 0 word types\n"
     ]
    },
    {
     "name": "stderr",
     "output_type": "stream",
     "text": [
      "  1%|▎                                 | 9236/878099 [00:00<00:18, 47379.32it/s]"
     ]
    },
    {
     "name": "stdout",
     "output_type": "stream",
     "text": [
      "INFO:gensim.models.phrases:PROGRESS: at sentence #10000, processed 97737 words and 85965 word types\n"
     ]
    },
    {
     "name": "stderr",
     "output_type": "stream",
     "text": [
      "  2%|▋                                | 19348/878099 [00:00<00:17, 49489.44it/s]"
     ]
    },
    {
     "name": "stdout",
     "output_type": "stream",
     "text": [
      "INFO:gensim.models.phrases:PROGRESS: at sentence #20000, processed 202402 words and 161015 word types\n"
     ]
    },
    {
     "name": "stderr",
     "output_type": "stream",
     "text": [
      "  3%|█                                | 29596/878099 [00:00<00:17, 48220.11it/s]"
     ]
    },
    {
     "name": "stdout",
     "output_type": "stream",
     "text": [
      "INFO:gensim.models.phrases:PROGRESS: at sentence #30000, processed 308522 words and 229172 word types\n"
     ]
    },
    {
     "name": "stderr",
     "output_type": "stream",
     "text": [
      "  5%|█▍                               | 39660/878099 [00:00<00:17, 49308.57it/s]"
     ]
    },
    {
     "name": "stdout",
     "output_type": "stream",
     "text": [
      "INFO:gensim.models.phrases:PROGRESS: at sentence #40000, processed 414193 words and 292762 word types\n"
     ]
    },
    {
     "name": "stderr",
     "output_type": "stream",
     "text": [
      "  6%|█▊                               | 49825/878099 [00:01<00:21, 37902.33it/s]"
     ]
    },
    {
     "name": "stdout",
     "output_type": "stream",
     "text": [
      "INFO:gensim.models.phrases:PROGRESS: at sentence #50000, processed 517662 words and 352438 word types\n"
     ]
    },
    {
     "name": "stderr",
     "output_type": "stream",
     "text": [
      "  7%|██▏                              | 59768/878099 [00:01<00:18, 43232.21it/s]"
     ]
    },
    {
     "name": "stdout",
     "output_type": "stream",
     "text": [
      "INFO:gensim.models.phrases:PROGRESS: at sentence #60000, processed 622468 words and 412903 word types\n"
     ]
    },
    {
     "name": "stderr",
     "output_type": "stream",
     "text": [
      "  8%|██▌                              | 68934/878099 [00:01<00:18, 43642.86it/s]"
     ]
    },
    {
     "name": "stdout",
     "output_type": "stream",
     "text": [
      "INFO:gensim.models.phrases:PROGRESS: at sentence #70000, processed 733808 words and 475569 word types\n"
     ]
    },
    {
     "name": "stderr",
     "output_type": "stream",
     "text": [
      "  9%|██▉                              | 78116/878099 [00:01<00:18, 44215.00it/s]"
     ]
    },
    {
     "name": "stdout",
     "output_type": "stream",
     "text": [
      "INFO:gensim.models.phrases:PROGRESS: at sentence #80000, processed 840748 words and 533549 word types\n"
     ]
    },
    {
     "name": "stderr",
     "output_type": "stream",
     "text": [
      " 10%|███▎                             | 87878/878099 [00:01<00:16, 46691.11it/s]"
     ]
    },
    {
     "name": "stdout",
     "output_type": "stream",
     "text": [
      "INFO:gensim.models.phrases:PROGRESS: at sentence #90000, processed 943828 words and 588976 word types\n"
     ]
    },
    {
     "name": "stderr",
     "output_type": "stream",
     "text": [
      " 11%|███▋                             | 97248/878099 [00:02<00:17, 45871.76it/s]"
     ]
    },
    {
     "name": "stdout",
     "output_type": "stream",
     "text": [
      "INFO:gensim.models.phrases:PROGRESS: at sentence #100000, processed 1050551 words and 649051 word types\n"
     ]
    },
    {
     "name": "stderr",
     "output_type": "stream",
     "text": [
      " 12%|███▉                            | 106366/878099 [00:02<00:17, 43657.76it/s]"
     ]
    },
    {
     "name": "stdout",
     "output_type": "stream",
     "text": [
      "INFO:gensim.models.phrases:PROGRESS: at sentence #110000, processed 1157561 words and 711051 word types\n"
     ]
    },
    {
     "name": "stderr",
     "output_type": "stream",
     "text": [
      " 14%|████▎                           | 118856/878099 [00:02<00:24, 31559.37it/s]"
     ]
    },
    {
     "name": "stdout",
     "output_type": "stream",
     "text": [
      "INFO:gensim.models.phrases:PROGRESS: at sentence #120000, processed 1264106 words and 771645 word types\n"
     ]
    },
    {
     "name": "stderr",
     "output_type": "stream",
     "text": [
      " 15%|████▋                           | 127595/878099 [00:03<00:20, 37099.62it/s]"
     ]
    },
    {
     "name": "stdout",
     "output_type": "stream",
     "text": [
      "INFO:gensim.models.phrases:PROGRESS: at sentence #130000, processed 1368424 words and 826049 word types\n"
     ]
    },
    {
     "name": "stderr",
     "output_type": "stream",
     "text": [
      " 16%|████▉                           | 136678/878099 [00:03<00:18, 40842.33it/s]"
     ]
    },
    {
     "name": "stdout",
     "output_type": "stream",
     "text": [
      "INFO:gensim.models.phrases:PROGRESS: at sentence #140000, processed 1472097 words and 875382 word types\n"
     ]
    },
    {
     "name": "stderr",
     "output_type": "stream",
     "text": [
      " 17%|█████▎                          | 145656/878099 [00:03<00:17, 42884.47it/s]"
     ]
    },
    {
     "name": "stdout",
     "output_type": "stream",
     "text": [
      "INFO:gensim.models.phrases:PROGRESS: at sentence #150000, processed 1575358 words and 923202 word types\n"
     ]
    },
    {
     "name": "stderr",
     "output_type": "stream",
     "text": [
      " 18%|█████▊                          | 159985/878099 [00:03<00:16, 44107.00it/s]"
     ]
    },
    {
     "name": "stdout",
     "output_type": "stream",
     "text": [
      "INFO:gensim.models.phrases:PROGRESS: at sentence #160000, processed 1675176 words and 968950 word types\n"
     ]
    },
    {
     "name": "stderr",
     "output_type": "stream",
     "text": [
      " 19%|██████▏                         | 169575/878099 [00:04<00:15, 45904.53it/s]"
     ]
    },
    {
     "name": "stdout",
     "output_type": "stream",
     "text": [
      "INFO:gensim.models.phrases:PROGRESS: at sentence #170000, processed 1776982 words and 1020963 word types\n"
     ]
    },
    {
     "name": "stderr",
     "output_type": "stream",
     "text": [
      " 20%|██████▌                         | 179749/878099 [00:04<00:14, 48562.00it/s]"
     ]
    },
    {
     "name": "stdout",
     "output_type": "stream",
     "text": [
      "INFO:gensim.models.phrases:PROGRESS: at sentence #180000, processed 1875030 words and 1065521 word types\n"
     ]
    },
    {
     "name": "stderr",
     "output_type": "stream",
     "text": [
      " 22%|██████▉                         | 189387/878099 [00:04<00:14, 47045.62it/s]"
     ]
    },
    {
     "name": "stdout",
     "output_type": "stream",
     "text": [
      "INFO:gensim.models.phrases:PROGRESS: at sentence #190000, processed 1979437 words and 1114294 word types\n"
     ]
    },
    {
     "name": "stderr",
     "output_type": "stream",
     "text": [
      " 23%|███████▎                        | 199138/878099 [00:04<00:14, 47671.31it/s]"
     ]
    },
    {
     "name": "stdout",
     "output_type": "stream",
     "text": [
      "INFO:gensim.models.phrases:PROGRESS: at sentence #200000, processed 2077120 words and 1157580 word types\n"
     ]
    },
    {
     "name": "stderr",
     "output_type": "stream",
     "text": [
      " 24%|███████▌                        | 209015/878099 [00:04<00:13, 48535.55it/s]"
     ]
    },
    {
     "name": "stdout",
     "output_type": "stream",
     "text": [
      "INFO:gensim.models.phrases:PROGRESS: at sentence #210000, processed 2180888 words and 1205165 word types\n"
     ]
    },
    {
     "name": "stderr",
     "output_type": "stream",
     "text": [
      " 25%|███████▉                        | 218586/878099 [00:05<00:14, 46578.19it/s]"
     ]
    },
    {
     "name": "stdout",
     "output_type": "stream",
     "text": [
      "INFO:gensim.models.phrases:PROGRESS: at sentence #220000, processed 2278691 words and 1251067 word types\n"
     ]
    },
    {
     "name": "stderr",
     "output_type": "stream",
     "text": [
      " 26%|████████▎                       | 227705/878099 [00:05<00:14, 44054.98it/s]"
     ]
    },
    {
     "name": "stdout",
     "output_type": "stream",
     "text": [
      "INFO:gensim.models.phrases:PROGRESS: at sentence #230000, processed 2382345 words and 1298412 word types\n"
     ]
    },
    {
     "name": "stderr",
     "output_type": "stream",
     "text": [
      " 27%|████████▋                       | 236901/878099 [00:05<00:14, 44277.25it/s]"
     ]
    },
    {
     "name": "stdout",
     "output_type": "stream",
     "text": [
      "INFO:gensim.models.phrases:PROGRESS: at sentence #240000, processed 2487276 words and 1347239 word types\n"
     ]
    },
    {
     "name": "stderr",
     "output_type": "stream",
     "text": [
      " 28%|████████▉                       | 245980/878099 [00:05<00:14, 44782.74it/s]"
     ]
    },
    {
     "name": "stdout",
     "output_type": "stream",
     "text": [
      "INFO:gensim.models.phrases:PROGRESS: at sentence #250000, processed 2591412 words and 1395582 word types\n"
     ]
    },
    {
     "name": "stderr",
     "output_type": "stream",
     "text": [
      " 30%|█████████▍                      | 259984/878099 [00:06<00:16, 38396.01it/s]"
     ]
    },
    {
     "name": "stdout",
     "output_type": "stream",
     "text": [
      "INFO:gensim.models.phrases:PROGRESS: at sentence #260000, processed 2697101 words and 1444837 word types\n"
     ]
    },
    {
     "name": "stderr",
     "output_type": "stream",
     "text": [
      " 31%|█████████▊                      | 269030/878099 [00:06<00:14, 41588.38it/s]"
     ]
    },
    {
     "name": "stdout",
     "output_type": "stream",
     "text": [
      "INFO:gensim.models.phrases:PROGRESS: at sentence #270000, processed 2802629 words and 1499429 word types\n"
     ]
    },
    {
     "name": "stderr",
     "output_type": "stream",
     "text": [
      " 32%|██████████                      | 277637/878099 [00:06<00:15, 37883.03it/s]"
     ]
    },
    {
     "name": "stdout",
     "output_type": "stream",
     "text": [
      "INFO:gensim.models.phrases:PROGRESS: at sentence #280000, processed 2909626 words and 1555335 word types\n"
     ]
    },
    {
     "name": "stderr",
     "output_type": "stream",
     "text": [
      " 33%|██████████▍                     | 287044/878099 [00:06<00:14, 42010.70it/s]"
     ]
    },
    {
     "name": "stdout",
     "output_type": "stream",
     "text": [
      "INFO:gensim.models.phrases:PROGRESS: at sentence #290000, processed 3016705 words and 1609444 word types\n"
     ]
    },
    {
     "name": "stderr",
     "output_type": "stream",
     "text": [
      " 34%|██████████▊                     | 296016/878099 [00:06<00:13, 42196.73it/s]"
     ]
    },
    {
     "name": "stdout",
     "output_type": "stream",
     "text": [
      "INFO:gensim.models.phrases:PROGRESS: at sentence #300000, processed 3119372 words and 1664064 word types\n"
     ]
    },
    {
     "name": "stderr",
     "output_type": "stream",
     "text": [
      " 35%|███████████                     | 305210/878099 [00:07<00:12, 44249.45it/s]"
     ]
    },
    {
     "name": "stdout",
     "output_type": "stream",
     "text": [
      "INFO:gensim.models.phrases:PROGRESS: at sentence #310000, processed 3219226 words and 1714012 word types\n"
     ]
    },
    {
     "name": "stderr",
     "output_type": "stream",
     "text": [
      " 36%|███████████▋                    | 319374/878099 [00:07<00:12, 44860.27it/s]"
     ]
    },
    {
     "name": "stdout",
     "output_type": "stream",
     "text": [
      "INFO:gensim.models.phrases:PROGRESS: at sentence #320000, processed 3324744 words and 1767834 word types\n"
     ]
    },
    {
     "name": "stderr",
     "output_type": "stream",
     "text": [
      " 37%|███████████▉                    | 328540/878099 [00:07<00:12, 44952.40it/s]"
     ]
    },
    {
     "name": "stdout",
     "output_type": "stream",
     "text": [
      "INFO:gensim.models.phrases:PROGRESS: at sentence #330000, processed 3431781 words and 1822028 word types\n"
     ]
    },
    {
     "name": "stderr",
     "output_type": "stream",
     "text": [
      " 39%|████████████▎                   | 338430/878099 [00:07<00:11, 45773.56it/s]"
     ]
    },
    {
     "name": "stdout",
     "output_type": "stream",
     "text": [
      "INFO:gensim.models.phrases:PROGRESS: at sentence #340000, processed 3535404 words and 1873213 word types\n"
     ]
    },
    {
     "name": "stderr",
     "output_type": "stream",
     "text": [
      " 40%|████████████▋                   | 347707/878099 [00:08<00:11, 45003.84it/s]"
     ]
    },
    {
     "name": "stdout",
     "output_type": "stream",
     "text": [
      "INFO:gensim.models.phrases:PROGRESS: at sentence #350000, processed 3642656 words and 1919937 word types\n"
     ]
    },
    {
     "name": "stderr",
     "output_type": "stream",
     "text": [
      " 41%|█████████████                   | 356731/878099 [00:08<00:11, 44493.64it/s]"
     ]
    },
    {
     "name": "stdout",
     "output_type": "stream",
     "text": [
      "INFO:gensim.models.phrases:PROGRESS: at sentence #360000, processed 3751051 words and 1960918 word types\n"
     ]
    },
    {
     "name": "stderr",
     "output_type": "stream",
     "text": [
      " 42%|█████████████▎                  | 365603/878099 [00:08<00:11, 44095.92it/s]"
     ]
    },
    {
     "name": "stdout",
     "output_type": "stream",
     "text": [
      "INFO:gensim.models.phrases:PROGRESS: at sentence #370000, processed 3856953 words and 2002769 word types\n"
     ]
    },
    {
     "name": "stderr",
     "output_type": "stream",
     "text": [
      " 43%|█████████████▊                  | 378806/878099 [00:08<00:14, 34414.70it/s]"
     ]
    },
    {
     "name": "stdout",
     "output_type": "stream",
     "text": [
      "INFO:gensim.models.phrases:PROGRESS: at sentence #380000, processed 3958477 words and 2043134 word types\n"
     ]
    },
    {
     "name": "stderr",
     "output_type": "stream",
     "text": [
      " 44%|██████████████                  | 386768/878099 [00:09<00:13, 35906.84it/s]"
     ]
    },
    {
     "name": "stdout",
     "output_type": "stream",
     "text": [
      "INFO:gensim.models.phrases:PROGRESS: at sentence #390000, processed 4064747 words and 2085064 word types\n"
     ]
    },
    {
     "name": "stderr",
     "output_type": "stream",
     "text": [
      " 45%|██████████████▌                 | 398564/878099 [00:09<00:13, 35303.78it/s]"
     ]
    },
    {
     "name": "stdout",
     "output_type": "stream",
     "text": [
      "INFO:gensim.models.phrases:PROGRESS: at sentence #400000, processed 4174727 words and 2133901 word types\n"
     ]
    },
    {
     "name": "stderr",
     "output_type": "stream",
     "text": [
      " 46%|██████████████▊                 | 406365/878099 [00:09<00:12, 37160.06it/s]"
     ]
    },
    {
     "name": "stdout",
     "output_type": "stream",
     "text": [
      "INFO:gensim.models.phrases:PROGRESS: at sentence #410000, processed 4284644 words and 2183773 word types\n"
     ]
    },
    {
     "name": "stderr",
     "output_type": "stream",
     "text": [
      " 48%|███████████████▏                | 418251/878099 [00:09<00:11, 38896.79it/s]"
     ]
    },
    {
     "name": "stdout",
     "output_type": "stream",
     "text": [
      "INFO:gensim.models.phrases:PROGRESS: at sentence #420000, processed 4395575 words and 2233185 word types\n"
     ]
    },
    {
     "name": "stderr",
     "output_type": "stream",
     "text": [
      " 49%|███████████████▌                | 426200/878099 [00:10<00:11, 37908.87it/s]"
     ]
    },
    {
     "name": "stdout",
     "output_type": "stream",
     "text": [
      "INFO:gensim.models.phrases:PROGRESS: at sentence #430000, processed 4503678 words and 2280727 word types\n"
     ]
    },
    {
     "name": "stderr",
     "output_type": "stream",
     "text": [
      " 50%|███████████████▉                | 438845/878099 [00:10<00:10, 40737.15it/s]"
     ]
    },
    {
     "name": "stdout",
     "output_type": "stream",
     "text": [
      "INFO:gensim.models.phrases:PROGRESS: at sentence #440000, processed 4608749 words and 2324342 word types\n"
     ]
    },
    {
     "name": "stderr",
     "output_type": "stream",
     "text": [
      " 51%|████████████████▎               | 447022/878099 [00:10<00:10, 40319.62it/s]"
     ]
    },
    {
     "name": "stdout",
     "output_type": "stream",
     "text": [
      "INFO:gensim.models.phrases:PROGRESS: at sentence #450000, processed 4716874 words and 2369710 word types\n"
     ]
    },
    {
     "name": "stderr",
     "output_type": "stream",
     "text": [
      " 52%|████████████████▋               | 458653/878099 [00:11<00:12, 34873.66it/s]"
     ]
    },
    {
     "name": "stdout",
     "output_type": "stream",
     "text": [
      "INFO:gensim.models.phrases:PROGRESS: at sentence #460000, processed 4821251 words and 2411689 word types\n"
     ]
    },
    {
     "name": "stderr",
     "output_type": "stream",
     "text": [
      " 53%|████████████████▉               | 466288/878099 [00:11<00:12, 33802.96it/s]"
     ]
    },
    {
     "name": "stdout",
     "output_type": "stream",
     "text": [
      "INFO:gensim.models.phrases:PROGRESS: at sentence #470000, processed 4926621 words and 2450806 word types\n"
     ]
    },
    {
     "name": "stderr",
     "output_type": "stream",
     "text": [
      " 54%|█████████████████▎              | 475483/878099 [00:11<00:10, 39703.80it/s]"
     ]
    },
    {
     "name": "stdout",
     "output_type": "stream",
     "text": [
      "INFO:gensim.models.phrases:PROGRESS: at sentence #480000, processed 5025698 words and 2486539 word types\n"
     ]
    },
    {
     "name": "stderr",
     "output_type": "stream",
     "text": [
      " 56%|█████████████████▊              | 488739/878099 [00:11<00:09, 39742.08it/s]"
     ]
    },
    {
     "name": "stdout",
     "output_type": "stream",
     "text": [
      "INFO:gensim.models.phrases:PROGRESS: at sentence #490000, processed 5129623 words and 2532715 word types\n"
     ]
    },
    {
     "name": "stderr",
     "output_type": "stream",
     "text": [
      " 57%|██████████████████▏             | 498480/878099 [00:12<00:08, 44084.15it/s]"
     ]
    },
    {
     "name": "stdout",
     "output_type": "stream",
     "text": [
      "INFO:gensim.models.phrases:PROGRESS: at sentence #500000, processed 5227936 words and 2574602 word types\n"
     ]
    },
    {
     "name": "stderr",
     "output_type": "stream",
     "text": [
      " 58%|██████████████████▌             | 508395/878099 [00:12<00:07, 47093.79it/s]"
     ]
    },
    {
     "name": "stdout",
     "output_type": "stream",
     "text": [
      "INFO:gensim.models.phrases:PROGRESS: at sentence #510000, processed 5329840 words and 2620811 word types\n"
     ]
    },
    {
     "name": "stderr",
     "output_type": "stream",
     "text": [
      " 59%|██████████████████▊             | 517734/878099 [00:12<00:07, 45486.14it/s]"
     ]
    },
    {
     "name": "stdout",
     "output_type": "stream",
     "text": [
      "INFO:gensim.models.phrases:PROGRESS: at sentence #520000, processed 5428015 words and 2662452 word types\n"
     ]
    },
    {
     "name": "stderr",
     "output_type": "stream",
     "text": [
      " 60%|███████████████████▏            | 526640/878099 [00:12<00:08, 40010.32it/s]"
     ]
    },
    {
     "name": "stdout",
     "output_type": "stream",
     "text": [
      "INFO:gensim.models.phrases:PROGRESS: at sentence #530000, processed 5530624 words and 2700482 word types\n"
     ]
    },
    {
     "name": "stderr",
     "output_type": "stream",
     "text": [
      " 61%|███████████████████▋            | 538595/878099 [00:12<00:09, 37590.70it/s]"
     ]
    },
    {
     "name": "stdout",
     "output_type": "stream",
     "text": [
      "INFO:gensim.models.phrases:PROGRESS: at sentence #540000, processed 5632829 words and 2738293 word types\n"
     ]
    },
    {
     "name": "stderr",
     "output_type": "stream",
     "text": [
      " 63%|████████████████████            | 549880/878099 [00:13<00:08, 37112.86it/s]"
     ]
    },
    {
     "name": "stdout",
     "output_type": "stream",
     "text": [
      "INFO:gensim.models.phrases:PROGRESS: at sentence #550000, processed 5732551 words and 2776113 word types\n"
     ]
    },
    {
     "name": "stderr",
     "output_type": "stream",
     "text": [
      " 64%|████████████████████▎           | 557838/878099 [00:13<00:11, 28498.63it/s]"
     ]
    },
    {
     "name": "stdout",
     "output_type": "stream",
     "text": [
      "INFO:gensim.models.phrases:PROGRESS: at sentence #560000, processed 5831484 words and 2811835 word types\n"
     ]
    },
    {
     "name": "stderr",
     "output_type": "stream",
     "text": [
      " 65%|████████████████████▊           | 569730/878099 [00:13<00:09, 33258.79it/s]"
     ]
    },
    {
     "name": "stdout",
     "output_type": "stream",
     "text": [
      "INFO:gensim.models.phrases:PROGRESS: at sentence #570000, processed 5933307 words and 2847453 word types\n"
     ]
    },
    {
     "name": "stderr",
     "output_type": "stream",
     "text": [
      " 66%|█████████████████████           | 579414/878099 [00:14<00:07, 40159.09it/s]"
     ]
    },
    {
     "name": "stdout",
     "output_type": "stream",
     "text": [
      "INFO:gensim.models.phrases:PROGRESS: at sentence #580000, processed 6030496 words and 2881302 word types\n"
     ]
    },
    {
     "name": "stderr",
     "output_type": "stream",
     "text": [
      " 67%|█████████████████████▍          | 587850/878099 [00:14<00:07, 39908.24it/s]"
     ]
    },
    {
     "name": "stdout",
     "output_type": "stream",
     "text": [
      "INFO:gensim.models.phrases:PROGRESS: at sentence #590000, processed 6135358 words and 2915478 word types\n"
     ]
    },
    {
     "name": "stderr",
     "output_type": "stream",
     "text": [
      " 68%|█████████████████████▋          | 595968/878099 [00:14<00:07, 36621.19it/s]"
     ]
    },
    {
     "name": "stdout",
     "output_type": "stream",
     "text": [
      "INFO:gensim.models.phrases:PROGRESS: at sentence #600000, processed 6241375 words and 2950634 word types\n"
     ]
    },
    {
     "name": "stderr",
     "output_type": "stream",
     "text": [
      " 69%|██████████████████████▏         | 608052/878099 [00:14<00:06, 38887.48it/s]"
     ]
    },
    {
     "name": "stdout",
     "output_type": "stream",
     "text": [
      "INFO:gensim.models.phrases:PROGRESS: at sentence #610000, processed 6347646 words and 2989567 word types\n"
     ]
    },
    {
     "name": "stderr",
     "output_type": "stream",
     "text": [
      " 70%|██████████████████████▍         | 616363/878099 [00:15<00:06, 39490.50it/s]"
     ]
    },
    {
     "name": "stdout",
     "output_type": "stream",
     "text": [
      "INFO:gensim.models.phrases:PROGRESS: at sentence #620000, processed 6443423 words and 3026282 word types\n"
     ]
    },
    {
     "name": "stderr",
     "output_type": "stream",
     "text": [
      " 72%|██████████████████████▉         | 629789/878099 [00:15<00:05, 41442.97it/s]"
     ]
    },
    {
     "name": "stdout",
     "output_type": "stream",
     "text": [
      "INFO:gensim.models.phrases:PROGRESS: at sentence #630000, processed 6544291 words and 3064323 word types\n"
     ]
    },
    {
     "name": "stderr",
     "output_type": "stream",
     "text": [
      " 73%|███████████████████████▎        | 638062/878099 [00:15<00:06, 39962.12it/s]"
     ]
    },
    {
     "name": "stdout",
     "output_type": "stream",
     "text": [
      "INFO:gensim.models.phrases:PROGRESS: at sentence #640000, processed 6651819 words and 3107300 word types\n"
     ]
    },
    {
     "name": "stderr",
     "output_type": "stream",
     "text": [
      " 74%|███████████████████████▌        | 646071/878099 [00:15<00:05, 39488.35it/s]"
     ]
    },
    {
     "name": "stdout",
     "output_type": "stream",
     "text": [
      "INFO:gensim.models.phrases:PROGRESS: at sentence #650000, processed 6758504 words and 3146762 word types\n"
     ]
    },
    {
     "name": "stderr",
     "output_type": "stream",
     "text": [
      " 75%|███████████████████████▉        | 657595/878099 [00:16<00:06, 34702.99it/s]"
     ]
    },
    {
     "name": "stdout",
     "output_type": "stream",
     "text": [
      "INFO:gensim.models.phrases:PROGRESS: at sentence #660000, processed 6869853 words and 3189030 word types\n"
     ]
    },
    {
     "name": "stderr",
     "output_type": "stream",
     "text": [
      " 76%|████████████████████████▍       | 669034/878099 [00:16<00:06, 33227.61it/s]"
     ]
    },
    {
     "name": "stdout",
     "output_type": "stream",
     "text": [
      "INFO:gensim.models.phrases:PROGRESS: at sentence #670000, processed 6980064 words and 3231654 word types\n"
     ]
    },
    {
     "name": "stderr",
     "output_type": "stream",
     "text": [
      " 77%|████████████████████████▋       | 676576/878099 [00:16<00:05, 35518.43it/s]"
     ]
    },
    {
     "name": "stdout",
     "output_type": "stream",
     "text": [
      "INFO:gensim.models.phrases:PROGRESS: at sentence #680000, processed 7086955 words and 3271165 word types\n"
     ]
    },
    {
     "name": "stderr",
     "output_type": "stream",
     "text": [
      " 78%|█████████████████████████       | 687844/878099 [00:17<00:05, 34863.88it/s]"
     ]
    },
    {
     "name": "stdout",
     "output_type": "stream",
     "text": [
      "INFO:gensim.models.phrases:PROGRESS: at sentence #690000, processed 7190310 words and 3309166 word types\n"
     ]
    },
    {
     "name": "stderr",
     "output_type": "stream",
     "text": [
      " 80%|█████████████████████████▍      | 699328/878099 [00:17<00:04, 36042.62it/s]"
     ]
    },
    {
     "name": "stdout",
     "output_type": "stream",
     "text": [
      "INFO:gensim.models.phrases:PROGRESS: at sentence #700000, processed 7289821 words and 3344735 word types\n"
     ]
    },
    {
     "name": "stderr",
     "output_type": "stream",
     "text": [
      " 81%|█████████████████████████▊      | 706942/878099 [00:17<00:04, 36539.04it/s]"
     ]
    },
    {
     "name": "stdout",
     "output_type": "stream",
     "text": [
      "INFO:gensim.models.phrases:PROGRESS: at sentence #710000, processed 7396774 words and 3383334 word types\n"
     ]
    },
    {
     "name": "stderr",
     "output_type": "stream",
     "text": [
      " 82%|██████████████████████████▏     | 717876/878099 [00:17<00:04, 35404.27it/s]"
     ]
    },
    {
     "name": "stdout",
     "output_type": "stream",
     "text": [
      "INFO:gensim.models.phrases:PROGRESS: at sentence #720000, processed 7502881 words and 3422252 word types\n"
     ]
    },
    {
     "name": "stderr",
     "output_type": "stream",
     "text": [
      " 83%|██████████████████████████▍     | 726865/878099 [00:18<00:03, 40217.55it/s]"
     ]
    },
    {
     "name": "stdout",
     "output_type": "stream",
     "text": [
      "INFO:gensim.models.phrases:PROGRESS: at sentence #730000, processed 7607465 words and 3461569 word types\n"
     ]
    },
    {
     "name": "stderr",
     "output_type": "stream",
     "text": [
      " 84%|██████████████████████████▉     | 739117/878099 [00:18<00:03, 39285.20it/s]"
     ]
    },
    {
     "name": "stdout",
     "output_type": "stream",
     "text": [
      "INFO:gensim.models.phrases:PROGRESS: at sentence #740000, processed 7714590 words and 3501491 word types\n"
     ]
    },
    {
     "name": "stderr",
     "output_type": "stream",
     "text": [
      " 85%|███████████████████████████▏    | 746970/878099 [00:18<00:03, 37550.53it/s]"
     ]
    },
    {
     "name": "stdout",
     "output_type": "stream",
     "text": [
      "INFO:gensim.models.phrases:PROGRESS: at sentence #750000, processed 7821838 words and 3539473 word types\n"
     ]
    },
    {
     "name": "stderr",
     "output_type": "stream",
     "text": [
      " 86%|███████████████████████████▌    | 757636/878099 [00:19<00:04, 29034.59it/s]"
     ]
    },
    {
     "name": "stdout",
     "output_type": "stream",
     "text": [
      "INFO:gensim.models.phrases:PROGRESS: at sentence #760000, processed 7933426 words and 3577546 word types\n"
     ]
    },
    {
     "name": "stderr",
     "output_type": "stream",
     "text": [
      " 88%|████████████████████████████    | 769174/878099 [00:19<00:03, 33832.87it/s]"
     ]
    },
    {
     "name": "stdout",
     "output_type": "stream",
     "text": [
      "INFO:gensim.models.phrases:PROGRESS: at sentence #770000, processed 8045359 words and 3618220 word types\n"
     ]
    },
    {
     "name": "stderr",
     "output_type": "stream",
     "text": [
      " 88%|████████████████████████████▎   | 776949/878099 [00:19<00:03, 33698.44it/s]"
     ]
    },
    {
     "name": "stdout",
     "output_type": "stream",
     "text": [
      "INFO:gensim.models.phrases:PROGRESS: at sentence #780000, processed 8151435 words and 3658536 word types\n"
     ]
    },
    {
     "name": "stderr",
     "output_type": "stream",
     "text": [
      " 90%|████████████████████████████▊   | 789127/878099 [00:19<00:02, 35262.06it/s]"
     ]
    },
    {
     "name": "stdout",
     "output_type": "stream",
     "text": [
      "INFO:gensim.models.phrases:PROGRESS: at sentence #790000, processed 8255893 words and 3695777 word types\n"
     ]
    },
    {
     "name": "stderr",
     "output_type": "stream",
     "text": [
      " 91%|█████████████████████████████▏  | 799496/878099 [00:20<00:02, 33146.15it/s]"
     ]
    },
    {
     "name": "stdout",
     "output_type": "stream",
     "text": [
      "INFO:gensim.models.phrases:PROGRESS: at sentence #800000, processed 8362307 words and 3733605 word types\n"
     ]
    },
    {
     "name": "stderr",
     "output_type": "stream",
     "text": [
      " 92%|█████████████████████████████▍  | 807022/878099 [00:20<00:01, 35579.95it/s]"
     ]
    },
    {
     "name": "stdout",
     "output_type": "stream",
     "text": [
      "INFO:gensim.models.phrases:PROGRESS: at sentence #810000, processed 8453399 words and 3764561 word types\n"
     ]
    },
    {
     "name": "stderr",
     "output_type": "stream",
     "text": [
      " 93%|█████████████████████████████▊  | 818030/878099 [00:20<00:01, 34284.70it/s]"
     ]
    },
    {
     "name": "stdout",
     "output_type": "stream",
     "text": [
      "INFO:gensim.models.phrases:PROGRESS: at sentence #820000, processed 8562404 words and 3804095 word types\n"
     ]
    },
    {
     "name": "stderr",
     "output_type": "stream",
     "text": [
      " 94%|██████████████████████████████▏ | 827963/878099 [00:21<00:01, 30421.56it/s]"
     ]
    },
    {
     "name": "stdout",
     "output_type": "stream",
     "text": [
      "INFO:gensim.models.phrases:PROGRESS: at sentence #830000, processed 8669483 words and 3843916 word types\n"
     ]
    },
    {
     "name": "stderr",
     "output_type": "stream",
     "text": [
      " 95%|██████████████████████████████▌ | 837163/878099 [00:21<00:01, 25685.02it/s]"
     ]
    },
    {
     "name": "stdout",
     "output_type": "stream",
     "text": [
      "INFO:gensim.models.phrases:PROGRESS: at sentence #840000, processed 8775832 words and 3892673 word types\n"
     ]
    },
    {
     "name": "stderr",
     "output_type": "stream",
     "text": [
      " 97%|██████████████████████████████▉ | 848726/878099 [00:21<00:00, 33462.41it/s]"
     ]
    },
    {
     "name": "stdout",
     "output_type": "stream",
     "text": [
      "INFO:gensim.models.phrases:PROGRESS: at sentence #850000, processed 8879321 words and 3939249 word types\n"
     ]
    },
    {
     "name": "stderr",
     "output_type": "stream",
     "text": [
      " 98%|███████████████████████████████▏| 857328/878099 [00:22<00:00, 38667.76it/s]"
     ]
    },
    {
     "name": "stdout",
     "output_type": "stream",
     "text": [
      "INFO:gensim.models.phrases:collected 3973422 word types from a corpus of 8956235 words (unigram + bigrams) and 857328 sentences\n",
      "INFO:gensim.models.phrases:using 3973422 counts as vocab in Phrases<0 vocab, min_count=10, threshold=10, max_vocab_size=40000000>\n",
      "INFO:gensim.utils:saving Phrases object under models/phrases/trigram.mod, separately None\n",
      "DEBUG:smart_open.smart_open_lib:{'uri': 'models/phrases/trigram.mod', 'mode': 'wb', 'buffering': -1, 'encoding': None, 'errors': None, 'newline': None, 'closefd': True, 'opener': None, 'compression': 'infer_from_extension', 'transport_params': None}\n"
     ]
    },
    {
     "name": "stderr",
     "output_type": "stream",
     "text": [
      "\n"
     ]
    },
    {
     "name": "stdout",
     "output_type": "stream",
     "text": [
      "INFO:gensim.utils:saved models/phrases/trigram.mod\n",
      "INFO:gensim.utils:loading Phrases object from models/phrases/trigram.mod\n",
      "DEBUG:smart_open.smart_open_lib:{'uri': 'models/phrases/trigram.mod', 'mode': 'rb', 'buffering': -1, 'encoding': None, 'errors': None, 'newline': None, 'closefd': True, 'opener': None, 'compression': 'infer_from_extension', 'transport_params': None}\n",
      "INFO:gensim.utils:loaded models/phrases/trigram.mod\n"
     ]
    },
    {
     "name": "stderr",
     "output_type": "stream",
     "text": [
      "100%|████████████████████████████████| 878099/878099 [00:58<00:00, 15136.63it/s]\n"
     ]
    },
    {
     "name": "stdout",
     "output_type": "stream",
     "text": [
      "2024-03-16 11:56:15.440236\n",
      "Training w2v model...\n",
      "DEBUG:gensim.models.word2vec:single file given as source, rather than a directory of files\n",
      "DEBUG:gensim.models.word2vec:consider using models.word2vec.LineSentence for a single file\n",
      "INFO:gensim.models.word2vec:files read into PathLineSentences:data/processed/trigram/documents.txt\n",
      "INFO:gensim.models.word2vec:collecting all words and their counts\n",
      "INFO:gensim.models.word2vec:reading file data/processed/trigram/documents.txt\n",
      "DEBUG:smart_open.smart_open_lib:{'uri': 'data/processed/trigram/documents.txt', 'mode': 'rb', 'buffering': -1, 'encoding': None, 'errors': None, 'newline': None, 'closefd': True, 'opener': None, 'compression': 'infer_from_extension', 'transport_params': None}\n",
      "INFO:gensim.models.word2vec:PROGRESS: at sentence #0, processed 0 words, keeping 0 word types\n",
      "INFO:gensim.models.word2vec:PROGRESS: at sentence #10000, processed 95780 words, keeping 16704 word types\n",
      "INFO:gensim.models.word2vec:PROGRESS: at sentence #20000, processed 197620 words, keeping 27301 word types\n",
      "INFO:gensim.models.word2vec:PROGRESS: at sentence #30000, processed 300950 words, keeping 35239 word types\n",
      "INFO:gensim.models.word2vec:PROGRESS: at sentence #40000, processed 403994 words, keeping 42237 word types\n",
      "INFO:gensim.models.word2vec:PROGRESS: at sentence #50000, processed 505016 words, keeping 48210 word types\n",
      "INFO:gensim.models.word2vec:PROGRESS: at sentence #60000, processed 607921 words, keeping 54433 word types\n",
      "INFO:gensim.models.word2vec:PROGRESS: at sentence #70000, processed 717262 words, keeping 60472 word types\n",
      "INFO:gensim.models.word2vec:PROGRESS: at sentence #80000, processed 822367 words, keeping 66008 word types\n",
      "INFO:gensim.models.word2vec:PROGRESS: at sentence #90000, processed 923688 words, keeping 71332 word types\n",
      "INFO:gensim.models.word2vec:PROGRESS: at sentence #100000, processed 1028353 words, keeping 77546 word types\n",
      "INFO:gensim.models.word2vec:PROGRESS: at sentence #110000, processed 1133750 words, keeping 83924 word types\n",
      "INFO:gensim.models.word2vec:PROGRESS: at sentence #120000, processed 1239083 words, keeping 89847 word types\n",
      "INFO:gensim.models.word2vec:PROGRESS: at sentence #130000, processed 1341636 words, keeping 94647 word types\n",
      "INFO:gensim.models.word2vec:PROGRESS: at sentence #140000, processed 1443098 words, keeping 98847 word types\n",
      "INFO:gensim.models.word2vec:PROGRESS: at sentence #150000, processed 1544242 words, keeping 102906 word types\n",
      "INFO:gensim.models.word2vec:PROGRESS: at sentence #160000, processed 1642131 words, keeping 106732 word types\n",
      "INFO:gensim.models.word2vec:PROGRESS: at sentence #170000, processed 1742409 words, keeping 111815 word types\n",
      "INFO:gensim.models.word2vec:PROGRESS: at sentence #180000, processed 1838613 words, keeping 115591 word types\n",
      "INFO:gensim.models.word2vec:PROGRESS: at sentence #190000, processed 1940793 words, keeping 119730 word types\n",
      "INFO:gensim.models.word2vec:PROGRESS: at sentence #200000, processed 2036502 words, keeping 122975 word types\n",
      "INFO:gensim.models.word2vec:PROGRESS: at sentence #210000, processed 2138243 words, keeping 126786 word types\n",
      "INFO:gensim.models.word2vec:PROGRESS: at sentence #220000, processed 2234545 words, keeping 130631 word types\n",
      "INFO:gensim.models.word2vec:PROGRESS: at sentence #230000, processed 2336067 words, keeping 134570 word types\n",
      "INFO:gensim.models.word2vec:PROGRESS: at sentence #240000, processed 2438783 words, keeping 138683 word types\n",
      "INFO:gensim.models.word2vec:PROGRESS: at sentence #250000, processed 2540840 words, keeping 142893 word types\n",
      "INFO:gensim.models.word2vec:PROGRESS: at sentence #260000, processed 2644650 words, keeping 147077 word types\n",
      "INFO:gensim.models.word2vec:PROGRESS: at sentence #270000, processed 2748838 words, keeping 152391 word types\n",
      "INFO:gensim.models.word2vec:PROGRESS: at sentence #280000, processed 2854280 words, keeping 158540 word types\n",
      "INFO:gensim.models.word2vec:PROGRESS: at sentence #290000, processed 2960103 words, keeping 164332 word types\n",
      "INFO:gensim.models.word2vec:PROGRESS: at sentence #300000, processed 3061776 words, keeping 170218 word types\n",
      "INFO:gensim.models.word2vec:PROGRESS: at sentence #310000, processed 3160614 words, keeping 174825 word types\n",
      "INFO:gensim.models.word2vec:PROGRESS: at sentence #320000, processed 3264879 words, keeping 180367 word types\n",
      "INFO:gensim.models.word2vec:PROGRESS: at sentence #330000, processed 3370612 words, keeping 186036 word types\n",
      "INFO:gensim.models.word2vec:PROGRESS: at sentence #340000, processed 3473012 words, keeping 190959 word types\n",
      "INFO:gensim.models.word2vec:PROGRESS: at sentence #350000, processed 3578182 words, keeping 194598 word types\n",
      "INFO:gensim.models.word2vec:PROGRESS: at sentence #360000, processed 3683531 words, keeping 197610 word types\n",
      "INFO:gensim.models.word2vec:PROGRESS: at sentence #370000, processed 3787139 words, keeping 200864 word types\n",
      "INFO:gensim.models.word2vec:PROGRESS: at sentence #380000, processed 3886788 words, keeping 203805 word types\n",
      "INFO:gensim.models.word2vec:PROGRESS: at sentence #390000, processed 3990654 words, keeping 206985 word types\n",
      "INFO:gensim.models.word2vec:PROGRESS: at sentence #400000, processed 4098562 words, keeping 211241 word types\n",
      "INFO:gensim.models.word2vec:PROGRESS: at sentence #410000, processed 4206670 words, keeping 215627 word types\n",
      "INFO:gensim.models.word2vec:PROGRESS: at sentence #420000, processed 4316258 words, keeping 219606 word types\n",
      "INFO:gensim.models.word2vec:PROGRESS: at sentence #430000, processed 4422854 words, keeping 223635 word types\n",
      "INFO:gensim.models.word2vec:PROGRESS: at sentence #440000, processed 4525741 words, keeping 227147 word types\n",
      "INFO:gensim.models.word2vec:PROGRESS: at sentence #450000, processed 4631728 words, keeping 230918 word types\n",
      "INFO:gensim.models.word2vec:PROGRESS: at sentence #460000, processed 4734380 words, keeping 234299 word types\n",
      "INFO:gensim.models.word2vec:PROGRESS: at sentence #470000, processed 4837241 words, keeping 237375 word types\n",
      "INFO:gensim.models.word2vec:PROGRESS: at sentence #480000, processed 4934057 words, keeping 240034 word types\n",
      "INFO:gensim.models.word2vec:PROGRESS: at sentence #490000, processed 5036636 words, keeping 244522 word types\n",
      "INFO:gensim.models.word2vec:PROGRESS: at sentence #500000, processed 5133679 words, keeping 248191 word types\n",
      "INFO:gensim.models.word2vec:PROGRESS: at sentence #510000, processed 5234329 words, keeping 252511 word types\n",
      "INFO:gensim.models.word2vec:PROGRESS: at sentence #520000, processed 5331285 words, keeping 256194 word types\n",
      "INFO:gensim.models.word2vec:PROGRESS: at sentence #530000, processed 5431994 words, keeping 259184 word types\n",
      "INFO:gensim.models.word2vec:PROGRESS: at sentence #540000, processed 5532329 words, keeping 262230 word types\n",
      "INFO:gensim.models.word2vec:PROGRESS: at sentence #550000, processed 5630343 words, keeping 265184 word types\n",
      "INFO:gensim.models.word2vec:PROGRESS: at sentence #560000, processed 5727665 words, keeping 267893 word types\n",
      "INFO:gensim.models.word2vec:PROGRESS: at sentence #570000, processed 5827732 words, keeping 270516 word types\n",
      "INFO:gensim.models.word2vec:PROGRESS: at sentence #580000, processed 5923234 words, keeping 273007 word types\n",
      "INFO:gensim.models.word2vec:PROGRESS: at sentence #590000, processed 6025838 words, keeping 275638 word types\n",
      "INFO:gensim.models.word2vec:PROGRESS: at sentence #600000, processed 6129040 words, keeping 278138 word types\n",
      "INFO:gensim.models.word2vec:PROGRESS: at sentence #610000, processed 6232947 words, keeping 281548 word types\n",
      "INFO:gensim.models.word2vec:PROGRESS: at sentence #620000, processed 6327191 words, keeping 285027 word types\n",
      "INFO:gensim.models.word2vec:PROGRESS: at sentence #630000, processed 6426683 words, keeping 287942 word types\n",
      "INFO:gensim.models.word2vec:PROGRESS: at sentence #640000, processed 6532525 words, keeping 291751 word types\n",
      "INFO:gensim.models.word2vec:PROGRESS: at sentence #650000, processed 6637132 words, keeping 294895 word types\n",
      "INFO:gensim.models.word2vec:PROGRESS: at sentence #660000, processed 6746543 words, keeping 298203 word types\n",
      "INFO:gensim.models.word2vec:PROGRESS: at sentence #670000, processed 6855047 words, keeping 301780 word types\n",
      "INFO:gensim.models.word2vec:PROGRESS: at sentence #680000, processed 6960450 words, keeping 304968 word types\n"
     ]
    },
    {
     "name": "stdout",
     "output_type": "stream",
     "text": [
      "INFO:gensim.models.word2vec:PROGRESS: at sentence #690000, processed 7062354 words, keeping 308052 word types\n",
      "INFO:gensim.models.word2vec:PROGRESS: at sentence #700000, processed 7160490 words, keeping 310909 word types\n",
      "INFO:gensim.models.word2vec:PROGRESS: at sentence #710000, processed 7265593 words, keeping 313970 word types\n",
      "INFO:gensim.models.word2vec:PROGRESS: at sentence #720000, processed 7370033 words, keeping 317284 word types\n",
      "INFO:gensim.models.word2vec:PROGRESS: at sentence #730000, processed 7473381 words, keeping 320600 word types\n",
      "INFO:gensim.models.word2vec:PROGRESS: at sentence #740000, processed 7578754 words, keeping 324139 word types\n",
      "INFO:gensim.models.word2vec:PROGRESS: at sentence #750000, processed 7684286 words, keeping 327436 word types\n",
      "INFO:gensim.models.word2vec:PROGRESS: at sentence #760000, processed 7793770 words, keeping 330630 word types\n",
      "INFO:gensim.models.word2vec:PROGRESS: at sentence #770000, processed 7903943 words, keeping 334148 word types\n",
      "INFO:gensim.models.word2vec:PROGRESS: at sentence #780000, processed 8008605 words, keeping 337913 word types\n",
      "INFO:gensim.models.word2vec:PROGRESS: at sentence #790000, processed 8111357 words, keeping 341077 word types\n",
      "INFO:gensim.models.word2vec:PROGRESS: at sentence #800000, processed 8216308 words, keeping 344142 word types\n",
      "INFO:gensim.models.word2vec:PROGRESS: at sentence #810000, processed 8305938 words, keeping 346564 word types\n",
      "INFO:gensim.models.word2vec:PROGRESS: at sentence #820000, processed 8412952 words, keeping 350158 word types\n",
      "INFO:gensim.models.word2vec:PROGRESS: at sentence #830000, processed 8518594 words, keeping 353559 word types\n",
      "INFO:gensim.models.word2vec:PROGRESS: at sentence #840000, processed 8623810 words, keeping 358426 word types\n",
      "INFO:gensim.models.word2vec:PROGRESS: at sentence #850000, processed 8726353 words, keeping 362509 word types\n",
      "INFO:gensim.models.word2vec:collected 365511 word types from a corpus of 8802600 raw words and 857328 sentences\n",
      "INFO:gensim.models.word2vec:Loading a fresh vocabulary\n",
      "INFO:gensim.models.word2vec:effective_min_count=5 retains 57115 unique words (15% of original 365511, drops 308396)\n",
      "INFO:gensim.models.word2vec:effective_min_count=5 leaves 8397597 word corpus (95% of original 8802600, drops 405003)\n",
      "INFO:gensim.models.word2vec:deleting the raw counts dictionary of 365511 items\n",
      "INFO:gensim.models.word2vec:sample=0.001 downsamples 25 most-common words\n",
      "INFO:gensim.models.word2vec:downsampling leaves estimated 7174164 word corpus (85.4% of prior 8397597)\n",
      "INFO:gensim.models.base_any2vec:estimated required memory for 57115 words and 300 dimensions: 165633500 bytes\n",
      "INFO:gensim.models.word2vec:resetting layer weights\n",
      "INFO:gensim.models.base_any2vec:training model with 2 workers on 57115 vocabulary and 300 features, using sg=0 hs=0 sample=0.001 negative=5 window=5\n",
      "INFO:gensim.models.word2vec:reading file data/processed/trigram/documents.txt\n",
      "DEBUG:smart_open.smart_open_lib:{'uri': 'data/processed/trigram/documents.txt', 'mode': 'rb', 'buffering': -1, 'encoding': None, 'errors': None, 'newline': None, 'closefd': True, 'opener': None, 'compression': 'infer_from_extension', 'transport_params': None}\n",
      "INFO:gensim.models.base_any2vec:EPOCH 1 - PROGRESS: at 5.43% examples, 381352 words/s, in_qsize 3, out_qsize 0\n",
      "INFO:gensim.models.base_any2vec:EPOCH 1 - PROGRESS: at 9.52% examples, 336548 words/s, in_qsize 4, out_qsize 0\n",
      "INFO:gensim.models.base_any2vec:EPOCH 1 - PROGRESS: at 15.37% examples, 363491 words/s, in_qsize 3, out_qsize 0\n",
      "INFO:gensim.models.base_any2vec:EPOCH 1 - PROGRESS: at 20.88% examples, 366154 words/s, in_qsize 3, out_qsize 0\n",
      "INFO:gensim.models.base_any2vec:EPOCH 1 - PROGRESS: at 26.52% examples, 370677 words/s, in_qsize 4, out_qsize 0\n",
      "INFO:gensim.models.base_any2vec:EPOCH 1 - PROGRESS: at 30.16% examples, 352274 words/s, in_qsize 4, out_qsize 0\n",
      "INFO:gensim.models.base_any2vec:EPOCH 1 - PROGRESS: at 35.76% examples, 359713 words/s, in_qsize 3, out_qsize 0\n",
      "INFO:gensim.models.base_any2vec:EPOCH 1 - PROGRESS: at 40.82% examples, 359496 words/s, in_qsize 3, out_qsize 0\n",
      "INFO:gensim.models.base_any2vec:EPOCH 1 - PROGRESS: at 45.34% examples, 355907 words/s, in_qsize 3, out_qsize 0\n",
      "INFO:gensim.models.base_any2vec:EPOCH 1 - PROGRESS: at 51.02% examples, 362606 words/s, in_qsize 3, out_qsize 1\n",
      "INFO:gensim.models.base_any2vec:EPOCH 1 - PROGRESS: at 56.82% examples, 366519 words/s, in_qsize 3, out_qsize 0\n",
      "INFO:gensim.models.base_any2vec:EPOCH 1 - PROGRESS: at 61.99% examples, 365009 words/s, in_qsize 3, out_qsize 0\n",
      "INFO:gensim.models.base_any2vec:EPOCH 1 - PROGRESS: at 66.12% examples, 358822 words/s, in_qsize 4, out_qsize 0\n",
      "INFO:gensim.models.base_any2vec:EPOCH 1 - PROGRESS: at 71.96% examples, 361834 words/s, in_qsize 3, out_qsize 0\n",
      "INFO:gensim.models.base_any2vec:EPOCH 1 - PROGRESS: at 77.19% examples, 362832 words/s, in_qsize 3, out_qsize 0\n",
      "INFO:gensim.models.base_any2vec:EPOCH 1 - PROGRESS: at 81.46% examples, 359322 words/s, in_qsize 3, out_qsize 0\n",
      "INFO:gensim.models.base_any2vec:EPOCH 1 - PROGRESS: at 86.17% examples, 358245 words/s, in_qsize 3, out_qsize 0\n",
      "INFO:gensim.models.base_any2vec:EPOCH 1 - PROGRESS: at 91.55% examples, 360401 words/s, in_qsize 3, out_qsize 0\n",
      "INFO:gensim.models.base_any2vec:EPOCH 1 - PROGRESS: at 97.11% examples, 362159 words/s, in_qsize 3, out_qsize 0\n",
      "DEBUG:gensim.models.base_any2vec:job loop exiting, total 881 jobs\n",
      "DEBUG:gensim.models.base_any2vec:worker exiting, processed 440 jobs\n",
      "INFO:gensim.models.base_any2vec:worker thread finished; awaiting finish of 1 more threads\n",
      "DEBUG:gensim.models.base_any2vec:worker exiting, processed 441 jobs\n",
      "INFO:gensim.models.base_any2vec:worker thread finished; awaiting finish of 0 more threads\n",
      "INFO:gensim.models.base_any2vec:EPOCH - 1 : training on 8802600 raw words (7174178 effective words) took 19.8s, 362065 effective words/s\n",
      "INFO:gensim.models.word2vec:reading file data/processed/trigram/documents.txt\n",
      "DEBUG:smart_open.smart_open_lib:{'uri': 'data/processed/trigram/documents.txt', 'mode': 'rb', 'buffering': -1, 'encoding': None, 'errors': None, 'newline': None, 'closefd': True, 'opener': None, 'compression': 'infer_from_extension', 'transport_params': None}\n",
      "INFO:gensim.models.base_any2vec:EPOCH 2 - PROGRESS: at 5.30% examples, 375148 words/s, in_qsize 4, out_qsize 0\n",
      "INFO:gensim.models.base_any2vec:EPOCH 2 - PROGRESS: at 10.09% examples, 358840 words/s, in_qsize 3, out_qsize 0\n",
      "INFO:gensim.models.base_any2vec:EPOCH 2 - PROGRESS: at 15.49% examples, 364560 words/s, in_qsize 3, out_qsize 0\n",
      "INFO:gensim.models.base_any2vec:EPOCH 2 - PROGRESS: at 19.91% examples, 349473 words/s, in_qsize 3, out_qsize 0\n",
      "INFO:gensim.models.base_any2vec:EPOCH 2 - PROGRESS: at 25.11% examples, 350132 words/s, in_qsize 3, out_qsize 0\n",
      "INFO:gensim.models.base_any2vec:EPOCH 2 - PROGRESS: at 29.71% examples, 345481 words/s, in_qsize 4, out_qsize 0\n",
      "INFO:gensim.models.base_any2vec:EPOCH 2 - PROGRESS: at 34.15% examples, 337582 words/s, in_qsize 2, out_qsize 1\n",
      "INFO:gensim.models.base_any2vec:EPOCH 2 - PROGRESS: at 39.71% examples, 343990 words/s, in_qsize 3, out_qsize 0\n",
      "INFO:gensim.models.base_any2vec:EPOCH 2 - PROGRESS: at 44.55% examples, 344513 words/s, in_qsize 3, out_qsize 0\n",
      "INFO:gensim.models.base_any2vec:EPOCH 2 - PROGRESS: at 48.38% examples, 338595 words/s, in_qsize 3, out_qsize 0\n",
      "INFO:gensim.models.base_any2vec:EPOCH 2 - PROGRESS: at 51.57% examples, 328559 words/s, in_qsize 3, out_qsize 0\n",
      "INFO:gensim.models.base_any2vec:EPOCH 2 - PROGRESS: at 56.71% examples, 330076 words/s, in_qsize 3, out_qsize 0\n",
      "INFO:gensim.models.base_any2vec:EPOCH 2 - PROGRESS: at 62.46% examples, 334463 words/s, in_qsize 3, out_qsize 0\n",
      "INFO:gensim.models.base_any2vec:EPOCH 2 - PROGRESS: at 66.47% examples, 329420 words/s, in_qsize 3, out_qsize 0\n",
      "INFO:gensim.models.base_any2vec:EPOCH 2 - PROGRESS: at 70.31% examples, 323116 words/s, in_qsize 3, out_qsize 0\n",
      "INFO:gensim.models.base_any2vec:EPOCH 2 - PROGRESS: at 74.69% examples, 321789 words/s, in_qsize 3, out_qsize 0\n",
      "INFO:gensim.models.base_any2vec:EPOCH 2 - PROGRESS: at 79.50% examples, 323877 words/s, in_qsize 3, out_qsize 0\n",
      "INFO:gensim.models.base_any2vec:EPOCH 2 - PROGRESS: at 84.51% examples, 325513 words/s, in_qsize 3, out_qsize 0\n",
      "INFO:gensim.models.base_any2vec:EPOCH 2 - PROGRESS: at 88.89% examples, 324883 words/s, in_qsize 4, out_qsize 0\n"
     ]
    },
    {
     "name": "stdout",
     "output_type": "stream",
     "text": [
      "INFO:gensim.models.base_any2vec:EPOCH 2 - PROGRESS: at 93.42% examples, 325098 words/s, in_qsize 4, out_qsize 0\n",
      "INFO:gensim.models.base_any2vec:EPOCH 2 - PROGRESS: at 98.57% examples, 326635 words/s, in_qsize 3, out_qsize 0\n",
      "DEBUG:gensim.models.base_any2vec:job loop exiting, total 881 jobs\n",
      "DEBUG:gensim.models.base_any2vec:worker exiting, processed 441 jobs\n",
      "INFO:gensim.models.base_any2vec:worker thread finished; awaiting finish of 1 more threads\n",
      "DEBUG:gensim.models.base_any2vec:worker exiting, processed 440 jobs\n",
      "INFO:gensim.models.base_any2vec:worker thread finished; awaiting finish of 0 more threads\n",
      "INFO:gensim.models.base_any2vec:EPOCH - 2 : training on 8802600 raw words (7174476 effective words) took 21.9s, 327474 effective words/s\n",
      "INFO:gensim.models.word2vec:reading file data/processed/trigram/documents.txt\n",
      "DEBUG:smart_open.smart_open_lib:{'uri': 'data/processed/trigram/documents.txt', 'mode': 'rb', 'buffering': -1, 'encoding': None, 'errors': None, 'newline': None, 'closefd': True, 'opener': None, 'compression': 'infer_from_extension', 'transport_params': None}\n",
      "INFO:gensim.models.base_any2vec:EPOCH 3 - PROGRESS: at 5.30% examples, 374857 words/s, in_qsize 3, out_qsize 0\n",
      "INFO:gensim.models.base_any2vec:EPOCH 3 - PROGRESS: at 9.40% examples, 332286 words/s, in_qsize 3, out_qsize 0\n",
      "INFO:gensim.models.base_any2vec:EPOCH 3 - PROGRESS: at 14.90% examples, 354844 words/s, in_qsize 3, out_qsize 0\n",
      "INFO:gensim.models.base_any2vec:EPOCH 3 - PROGRESS: at 20.51% examples, 362317 words/s, in_qsize 3, out_qsize 0\n",
      "INFO:gensim.models.base_any2vec:EPOCH 3 - PROGRESS: at 25.96% examples, 353797 words/s, in_qsize 3, out_qsize 0\n",
      "INFO:gensim.models.base_any2vec:EPOCH 3 - PROGRESS: at 31.49% examples, 360386 words/s, in_qsize 3, out_qsize 0\n",
      "INFO:gensim.models.base_any2vec:EPOCH 3 - PROGRESS: at 35.76% examples, 352065 words/s, in_qsize 3, out_qsize 0\n",
      "INFO:gensim.models.base_any2vec:EPOCH 3 - PROGRESS: at 41.16% examples, 355719 words/s, in_qsize 3, out_qsize 0\n",
      "INFO:gensim.models.base_any2vec:EPOCH 3 - PROGRESS: at 45.12% examples, 347459 words/s, in_qsize 3, out_qsize 0\n",
      "INFO:gensim.models.base_any2vec:EPOCH 3 - PROGRESS: at 50.46% examples, 352320 words/s, in_qsize 3, out_qsize 0\n",
      "INFO:gensim.models.base_any2vec:EPOCH 3 - PROGRESS: at 56.26% examples, 357135 words/s, in_qsize 3, out_qsize 0\n",
      "INFO:gensim.models.base_any2vec:EPOCH 3 - PROGRESS: at 61.20% examples, 354998 words/s, in_qsize 3, out_qsize 0\n",
      "INFO:gensim.models.base_any2vec:EPOCH 3 - PROGRESS: at 65.87% examples, 352670 words/s, in_qsize 4, out_qsize 0\n",
      "INFO:gensim.models.base_any2vec:EPOCH 3 - PROGRESS: at 72.08% examples, 357485 words/s, in_qsize 3, out_qsize 0\n",
      "INFO:gensim.models.base_any2vec:EPOCH 3 - PROGRESS: at 77.08% examples, 357935 words/s, in_qsize 4, out_qsize 0\n",
      "INFO:gensim.models.base_any2vec:EPOCH 3 - PROGRESS: at 81.46% examples, 355203 words/s, in_qsize 4, out_qsize 0\n",
      "INFO:gensim.models.base_any2vec:EPOCH 3 - PROGRESS: at 87.17% examples, 358701 words/s, in_qsize 4, out_qsize 0\n",
      "INFO:gensim.models.base_any2vec:EPOCH 3 - PROGRESS: at 92.42% examples, 360231 words/s, in_qsize 3, out_qsize 0\n",
      "INFO:gensim.models.base_any2vec:EPOCH 3 - PROGRESS: at 97.88% examples, 361296 words/s, in_qsize 3, out_qsize 0\n",
      "DEBUG:gensim.models.base_any2vec:job loop exiting, total 881 jobs\n",
      "DEBUG:gensim.models.base_any2vec:worker exiting, processed 442 jobs\n",
      "INFO:gensim.models.base_any2vec:worker thread finished; awaiting finish of 1 more threads\n",
      "DEBUG:gensim.models.base_any2vec:worker exiting, processed 439 jobs\n",
      "INFO:gensim.models.base_any2vec:worker thread finished; awaiting finish of 0 more threads\n",
      "INFO:gensim.models.base_any2vec:EPOCH - 3 : training on 8802600 raw words (7173917 effective words) took 19.9s, 360642 effective words/s\n",
      "INFO:gensim.models.word2vec:reading file data/processed/trigram/documents.txt\n",
      "DEBUG:smart_open.smart_open_lib:{'uri': 'data/processed/trigram/documents.txt', 'mode': 'rb', 'buffering': -1, 'encoding': None, 'errors': None, 'newline': None, 'closefd': True, 'opener': None, 'compression': 'infer_from_extension', 'transport_params': None}\n",
      "INFO:gensim.models.base_any2vec:EPOCH 4 - PROGRESS: at 6.11% examples, 427784 words/s, in_qsize 3, out_qsize 0\n",
      "INFO:gensim.models.base_any2vec:EPOCH 4 - PROGRESS: at 11.13% examples, 393216 words/s, in_qsize 3, out_qsize 0\n",
      "INFO:gensim.models.base_any2vec:EPOCH 4 - PROGRESS: at 14.55% examples, 347020 words/s, in_qsize 4, out_qsize 0\n",
      "INFO:gensim.models.base_any2vec:EPOCH 4 - PROGRESS: at 17.56% examples, 312166 words/s, in_qsize 3, out_qsize 0\n",
      "INFO:gensim.models.base_any2vec:EPOCH 4 - PROGRESS: at 22.86% examples, 322718 words/s, in_qsize 3, out_qsize 0\n",
      "INFO:gensim.models.base_any2vec:EPOCH 4 - PROGRESS: at 28.23% examples, 330715 words/s, in_qsize 3, out_qsize 0\n",
      "INFO:gensim.models.base_any2vec:EPOCH 4 - PROGRESS: at 33.15% examples, 334267 words/s, in_qsize 3, out_qsize 0\n",
      "INFO:gensim.models.base_any2vec:EPOCH 4 - PROGRESS: at 36.46% examples, 320824 words/s, in_qsize 3, out_qsize 0\n",
      "INFO:gensim.models.base_any2vec:EPOCH 4 - PROGRESS: at 41.37% examples, 324803 words/s, in_qsize 4, out_qsize 0\n",
      "INFO:gensim.models.base_any2vec:EPOCH 4 - PROGRESS: at 46.32% examples, 328275 words/s, in_qsize 3, out_qsize 0\n",
      "INFO:gensim.models.base_any2vec:EPOCH 4 - PROGRESS: at 51.02% examples, 329895 words/s, in_qsize 4, out_qsize 0\n",
      "INFO:gensim.models.base_any2vec:EPOCH 4 - PROGRESS: at 55.06% examples, 326739 words/s, in_qsize 3, out_qsize 0\n",
      "INFO:gensim.models.base_any2vec:EPOCH 4 - PROGRESS: at 60.12% examples, 327899 words/s, in_qsize 3, out_qsize 0\n",
      "INFO:gensim.models.base_any2vec:EPOCH 4 - PROGRESS: at 65.30% examples, 329811 words/s, in_qsize 3, out_qsize 0\n",
      "INFO:gensim.models.base_any2vec:EPOCH 4 - PROGRESS: at 69.73% examples, 327775 words/s, in_qsize 4, out_qsize 0\n",
      "INFO:gensim.models.base_any2vec:EPOCH 4 - PROGRESS: at 73.01% examples, 320846 words/s, in_qsize 3, out_qsize 0\n",
      "INFO:gensim.models.base_any2vec:EPOCH 4 - PROGRESS: at 76.87% examples, 318555 words/s, in_qsize 3, out_qsize 0\n",
      "INFO:gensim.models.base_any2vec:EPOCH 4 - PROGRESS: at 81.36% examples, 318709 words/s, in_qsize 3, out_qsize 0\n",
      "INFO:gensim.models.base_any2vec:EPOCH 4 - PROGRESS: at 85.63% examples, 318337 words/s, in_qsize 4, out_qsize 0\n",
      "INFO:gensim.models.base_any2vec:EPOCH 4 - PROGRESS: at 89.94% examples, 318542 words/s, in_qsize 3, out_qsize 0\n",
      "INFO:gensim.models.base_any2vec:EPOCH 4 - PROGRESS: at 94.21% examples, 317531 words/s, in_qsize 2, out_qsize 1\n",
      "INFO:gensim.models.base_any2vec:EPOCH 4 - PROGRESS: at 98.46% examples, 316798 words/s, in_qsize 3, out_qsize 0\n",
      "DEBUG:gensim.models.base_any2vec:job loop exiting, total 881 jobs\n",
      "DEBUG:gensim.models.base_any2vec:worker exiting, processed 441 jobs\n",
      "INFO:gensim.models.base_any2vec:worker thread finished; awaiting finish of 1 more threads\n",
      "DEBUG:gensim.models.base_any2vec:worker exiting, processed 440 jobs\n",
      "INFO:gensim.models.base_any2vec:worker thread finished; awaiting finish of 0 more threads\n",
      "INFO:gensim.models.base_any2vec:EPOCH - 4 : training on 8802600 raw words (7174061 effective words) took 22.6s, 316981 effective words/s\n",
      "INFO:gensim.models.word2vec:reading file data/processed/trigram/documents.txt\n",
      "DEBUG:smart_open.smart_open_lib:{'uri': 'data/processed/trigram/documents.txt', 'mode': 'rb', 'buffering': -1, 'encoding': None, 'errors': None, 'newline': None, 'closefd': True, 'opener': None, 'compression': 'infer_from_extension', 'transport_params': None}\n",
      "INFO:gensim.models.base_any2vec:EPOCH 5 - PROGRESS: at 5.30% examples, 373794 words/s, in_qsize 3, out_qsize 0\n",
      "INFO:gensim.models.base_any2vec:EPOCH 5 - PROGRESS: at 9.40% examples, 334573 words/s, in_qsize 3, out_qsize 0\n",
      "INFO:gensim.models.base_any2vec:EPOCH 5 - PROGRESS: at 14.78% examples, 351328 words/s, in_qsize 4, out_qsize 0\n",
      "INFO:gensim.models.base_any2vec:EPOCH 5 - PROGRESS: at 21.57% examples, 379323 words/s, in_qsize 3, out_qsize 0\n",
      "INFO:gensim.models.base_any2vec:EPOCH 5 - PROGRESS: at 27.09% examples, 378596 words/s, in_qsize 3, out_qsize 0\n",
      "INFO:gensim.models.base_any2vec:EPOCH 5 - PROGRESS: at 31.50% examples, 365962 words/s, in_qsize 3, out_qsize 0\n",
      "INFO:gensim.models.base_any2vec:EPOCH 5 - PROGRESS: at 35.28% examples, 352786 words/s, in_qsize 3, out_qsize 0\n",
      "INFO:gensim.models.base_any2vec:EPOCH 5 - PROGRESS: at 39.49% examples, 344738 words/s, in_qsize 3, out_qsize 0\n"
     ]
    },
    {
     "name": "stdout",
     "output_type": "stream",
     "text": [
      "INFO:gensim.models.base_any2vec:EPOCH 5 - PROGRESS: at 43.05% examples, 329646 words/s, in_qsize 3, out_qsize 0\n",
      "INFO:gensim.models.base_any2vec:EPOCH 5 - PROGRESS: at 46.65% examples, 322629 words/s, in_qsize 3, out_qsize 0\n",
      "INFO:gensim.models.base_any2vec:EPOCH 5 - PROGRESS: at 49.43% examples, 308564 words/s, in_qsize 3, out_qsize 0\n",
      "INFO:gensim.models.base_any2vec:EPOCH 5 - PROGRESS: at 52.12% examples, 299749 words/s, in_qsize 3, out_qsize 0\n",
      "INFO:gensim.models.base_any2vec:EPOCH 5 - PROGRESS: at 55.79% examples, 296412 words/s, in_qsize 4, out_qsize 0\n",
      "INFO:gensim.models.base_any2vec:EPOCH 5 - PROGRESS: at 60.84% examples, 295385 words/s, in_qsize 3, out_qsize 0\n",
      "INFO:gensim.models.base_any2vec:EPOCH 5 - PROGRESS: at 66.59% examples, 301550 words/s, in_qsize 4, out_qsize 0\n",
      "INFO:gensim.models.base_any2vec:EPOCH 5 - PROGRESS: at 71.85% examples, 305262 words/s, in_qsize 3, out_qsize 0\n",
      "INFO:gensim.models.base_any2vec:EPOCH 5 - PROGRESS: at 76.45% examples, 306784 words/s, in_qsize 3, out_qsize 0\n",
      "INFO:gensim.models.base_any2vec:EPOCH 5 - PROGRESS: at 80.64% examples, 306719 words/s, in_qsize 3, out_qsize 0\n",
      "INFO:gensim.models.base_any2vec:EPOCH 5 - PROGRESS: at 86.39% examples, 312351 words/s, in_qsize 3, out_qsize 0\n",
      "INFO:gensim.models.base_any2vec:EPOCH 5 - PROGRESS: at 91.55% examples, 315645 words/s, in_qsize 3, out_qsize 0\n",
      "INFO:gensim.models.base_any2vec:EPOCH 5 - PROGRESS: at 97.11% examples, 316612 words/s, in_qsize 3, out_qsize 1\n",
      "DEBUG:gensim.models.base_any2vec:job loop exiting, total 881 jobs\n",
      "DEBUG:gensim.models.base_any2vec:worker exiting, processed 440 jobs\n",
      "INFO:gensim.models.base_any2vec:worker thread finished; awaiting finish of 1 more threads\n",
      "DEBUG:gensim.models.base_any2vec:worker exiting, processed 441 jobs\n",
      "INFO:gensim.models.base_any2vec:worker thread finished; awaiting finish of 0 more threads\n",
      "INFO:gensim.models.base_any2vec:EPOCH - 5 : training on 8802600 raw words (7173744 effective words) took 22.5s, 318821 effective words/s\n",
      "INFO:gensim.models.word2vec:reading file data/processed/trigram/documents.txt\n",
      "DEBUG:smart_open.smart_open_lib:{'uri': 'data/processed/trigram/documents.txt', 'mode': 'rb', 'buffering': -1, 'encoding': None, 'errors': None, 'newline': None, 'closefd': True, 'opener': None, 'compression': 'infer_from_extension', 'transport_params': None}\n",
      "INFO:gensim.models.base_any2vec:EPOCH 6 - PROGRESS: at 5.54% examples, 385710 words/s, in_qsize 4, out_qsize 0\n",
      "INFO:gensim.models.base_any2vec:EPOCH 6 - PROGRESS: at 11.03% examples, 390624 words/s, in_qsize 3, out_qsize 0\n",
      "INFO:gensim.models.base_any2vec:EPOCH 6 - PROGRESS: at 15.49% examples, 368819 words/s, in_qsize 3, out_qsize 0\n",
      "INFO:gensim.models.base_any2vec:EPOCH 6 - PROGRESS: at 21.89% examples, 387919 words/s, in_qsize 3, out_qsize 0\n",
      "INFO:gensim.models.base_any2vec:EPOCH 6 - PROGRESS: at 27.56% examples, 386604 words/s, in_qsize 3, out_qsize 0\n",
      "INFO:gensim.models.base_any2vec:EPOCH 6 - PROGRESS: at 31.28% examples, 366113 words/s, in_qsize 3, out_qsize 0\n",
      "INFO:gensim.models.base_any2vec:EPOCH 6 - PROGRESS: at 35.06% examples, 352483 words/s, in_qsize 4, out_qsize 0\n",
      "INFO:gensim.models.base_any2vec:EPOCH 6 - PROGRESS: at 40.25% examples, 354811 words/s, in_qsize 4, out_qsize 0\n",
      "INFO:gensim.models.base_any2vec:EPOCH 6 - PROGRESS: at 45.34% examples, 356375 words/s, in_qsize 3, out_qsize 0\n",
      "INFO:gensim.models.base_any2vec:EPOCH 6 - PROGRESS: at 50.34% examples, 358272 words/s, in_qsize 3, out_qsize 0\n",
      "INFO:gensim.models.base_any2vec:EPOCH 6 - PROGRESS: at 53.43% examples, 346230 words/s, in_qsize 3, out_qsize 0\n",
      "INFO:gensim.models.base_any2vec:EPOCH 6 - PROGRESS: at 59.40% examples, 351232 words/s, in_qsize 3, out_qsize 0\n",
      "INFO:gensim.models.base_any2vec:EPOCH 6 - PROGRESS: at 64.71% examples, 352211 words/s, in_qsize 3, out_qsize 0\n",
      "INFO:gensim.models.base_any2vec:EPOCH 6 - PROGRESS: at 69.49% examples, 350296 words/s, in_qsize 4, out_qsize 0\n",
      "INFO:gensim.models.base_any2vec:EPOCH 6 - PROGRESS: at 75.35% examples, 354204 words/s, in_qsize 3, out_qsize 0\n",
      "INFO:gensim.models.base_any2vec:EPOCH 6 - PROGRESS: at 81.00% examples, 357845 words/s, in_qsize 4, out_qsize 0\n",
      "INFO:gensim.models.base_any2vec:EPOCH 6 - PROGRESS: at 86.17% examples, 358502 words/s, in_qsize 4, out_qsize 0\n",
      "INFO:gensim.models.base_any2vec:EPOCH 6 - PROGRESS: at 90.72% examples, 357474 words/s, in_qsize 3, out_qsize 0\n",
      "INFO:gensim.models.base_any2vec:EPOCH 6 - PROGRESS: at 96.10% examples, 358767 words/s, in_qsize 3, out_qsize 0\n",
      "DEBUG:gensim.models.base_any2vec:job loop exiting, total 881 jobs\n",
      "DEBUG:gensim.models.base_any2vec:worker exiting, processed 441 jobs\n",
      "INFO:gensim.models.base_any2vec:worker thread finished; awaiting finish of 1 more threads\n",
      "DEBUG:gensim.models.base_any2vec:worker exiting, processed 440 jobs\n",
      "INFO:gensim.models.base_any2vec:worker thread finished; awaiting finish of 0 more threads\n",
      "INFO:gensim.models.base_any2vec:EPOCH - 6 : training on 8802600 raw words (7175346 effective words) took 19.9s, 360219 effective words/s\n",
      "INFO:gensim.models.word2vec:reading file data/processed/trigram/documents.txt\n",
      "DEBUG:smart_open.smart_open_lib:{'uri': 'data/processed/trigram/documents.txt', 'mode': 'rb', 'buffering': -1, 'encoding': None, 'errors': None, 'newline': None, 'closefd': True, 'opener': None, 'compression': 'infer_from_extension', 'transport_params': None}\n",
      "INFO:gensim.models.base_any2vec:EPOCH 7 - PROGRESS: at 4.74% examples, 327448 words/s, in_qsize 3, out_qsize 1\n",
      "INFO:gensim.models.base_any2vec:EPOCH 7 - PROGRESS: at 10.20% examples, 359126 words/s, in_qsize 4, out_qsize 0\n",
      "INFO:gensim.models.base_any2vec:EPOCH 7 - PROGRESS: at 16.06% examples, 378966 words/s, in_qsize 3, out_qsize 0\n",
      "INFO:gensim.models.base_any2vec:EPOCH 7 - PROGRESS: at 22.14% examples, 387533 words/s, in_qsize 3, out_qsize 0\n",
      "INFO:gensim.models.base_any2vec:EPOCH 7 - PROGRESS: at 27.45% examples, 381968 words/s, in_qsize 3, out_qsize 0\n",
      "INFO:gensim.models.base_any2vec:EPOCH 7 - PROGRESS: at 33.47% examples, 390327 words/s, in_qsize 3, out_qsize 0\n",
      "INFO:gensim.models.base_any2vec:EPOCH 7 - PROGRESS: at 38.24% examples, 381155 words/s, in_qsize 3, out_qsize 0\n",
      "INFO:gensim.models.base_any2vec:EPOCH 7 - PROGRESS: at 42.27% examples, 370345 words/s, in_qsize 3, out_qsize 0\n",
      "INFO:gensim.models.base_any2vec:EPOCH 7 - PROGRESS: at 47.41% examples, 370370 words/s, in_qsize 3, out_qsize 0\n",
      "INFO:gensim.models.base_any2vec:EPOCH 7 - PROGRESS: at 52.33% examples, 369505 words/s, in_qsize 3, out_qsize 0\n",
      "INFO:gensim.models.base_any2vec:EPOCH 7 - PROGRESS: at 58.12% examples, 372118 words/s, in_qsize 3, out_qsize 0\n",
      "INFO:gensim.models.base_any2vec:EPOCH 7 - PROGRESS: at 63.16% examples, 369714 words/s, in_qsize 4, out_qsize 0\n",
      "INFO:gensim.models.base_any2vec:EPOCH 7 - PROGRESS: at 68.47% examples, 369473 words/s, in_qsize 4, out_qsize 0\n",
      "INFO:gensim.models.base_any2vec:EPOCH 7 - PROGRESS: at 74.38% examples, 372394 words/s, in_qsize 3, out_qsize 1\n",
      "INFO:gensim.models.base_any2vec:EPOCH 7 - PROGRESS: at 78.37% examples, 367784 words/s, in_qsize 3, out_qsize 0\n",
      "INFO:gensim.models.base_any2vec:EPOCH 7 - PROGRESS: at 83.49% examples, 367442 words/s, in_qsize 3, out_qsize 0\n",
      "INFO:gensim.models.base_any2vec:EPOCH 7 - PROGRESS: at 89.11% examples, 370217 words/s, in_qsize 4, out_qsize 0\n",
      "INFO:gensim.models.base_any2vec:EPOCH 7 - PROGRESS: at 94.47% examples, 369848 words/s, in_qsize 3, out_qsize 0\n",
      "INFO:gensim.models.base_any2vec:EPOCH 7 - PROGRESS: at 99.34% examples, 369061 words/s, in_qsize 3, out_qsize 0\n",
      "DEBUG:gensim.models.base_any2vec:job loop exiting, total 881 jobs\n",
      "DEBUG:gensim.models.base_any2vec:worker exiting, processed 441 jobs\n",
      "INFO:gensim.models.base_any2vec:worker thread finished; awaiting finish of 1 more threads\n",
      "DEBUG:gensim.models.base_any2vec:worker exiting, processed 440 jobs\n",
      "INFO:gensim.models.base_any2vec:worker thread finished; awaiting finish of 0 more threads\n",
      "INFO:gensim.models.base_any2vec:EPOCH - 7 : training on 8802600 raw words (7174003 effective words) took 19.4s, 369457 effective words/s\n",
      "INFO:gensim.models.word2vec:reading file data/processed/trigram/documents.txt\n",
      "DEBUG:smart_open.smart_open_lib:{'uri': 'data/processed/trigram/documents.txt', 'mode': 'rb', 'buffering': -1, 'encoding': None, 'errors': None, 'newline': None, 'closefd': True, 'opener': None, 'compression': 'infer_from_extension', 'transport_params': None}\n"
     ]
    },
    {
     "name": "stdout",
     "output_type": "stream",
     "text": [
      "INFO:gensim.models.base_any2vec:EPOCH 8 - PROGRESS: at 5.54% examples, 390486 words/s, in_qsize 4, out_qsize 0\n",
      "INFO:gensim.models.base_any2vec:EPOCH 8 - PROGRESS: at 10.80% examples, 383337 words/s, in_qsize 3, out_qsize 0\n",
      "INFO:gensim.models.base_any2vec:EPOCH 8 - PROGRESS: at 15.49% examples, 369230 words/s, in_qsize 3, out_qsize 0\n",
      "INFO:gensim.models.base_any2vec:EPOCH 8 - PROGRESS: at 21.46% examples, 379402 words/s, in_qsize 3, out_qsize 0\n",
      "INFO:gensim.models.base_any2vec:EPOCH 8 - PROGRESS: at 27.09% examples, 378216 words/s, in_qsize 3, out_qsize 0\n",
      "INFO:gensim.models.base_any2vec:EPOCH 8 - PROGRESS: at 30.72% examples, 357944 words/s, in_qsize 3, out_qsize 0\n",
      "INFO:gensim.models.base_any2vec:EPOCH 8 - PROGRESS: at 36.13% examples, 361997 words/s, in_qsize 3, out_qsize 0\n",
      "INFO:gensim.models.base_any2vec:EPOCH 8 - PROGRESS: at 41.37% examples, 363852 words/s, in_qsize 3, out_qsize 0\n",
      "INFO:gensim.models.base_any2vec:EPOCH 8 - PROGRESS: at 46.96% examples, 368884 words/s, in_qsize 3, out_qsize 0\n",
      "INFO:gensim.models.base_any2vec:EPOCH 8 - PROGRESS: at 50.46% examples, 358213 words/s, in_qsize 4, out_qsize 0\n",
      "INFO:gensim.models.base_any2vec:EPOCH 8 - PROGRESS: at 55.79% examples, 359747 words/s, in_qsize 3, out_qsize 0\n",
      "INFO:gensim.models.base_any2vec:EPOCH 8 - PROGRESS: at 61.76% examples, 363194 words/s, in_qsize 3, out_qsize 0\n",
      "INFO:gensim.models.base_any2vec:EPOCH 8 - PROGRESS: at 66.70% examples, 361402 words/s, in_qsize 4, out_qsize 0\n",
      "INFO:gensim.models.base_any2vec:EPOCH 8 - PROGRESS: at 72.78% examples, 365613 words/s, in_qsize 3, out_qsize 0\n",
      "INFO:gensim.models.base_any2vec:EPOCH 8 - PROGRESS: at 77.63% examples, 364949 words/s, in_qsize 4, out_qsize 0\n",
      "INFO:gensim.models.base_any2vec:EPOCH 8 - PROGRESS: at 83.25% examples, 367366 words/s, in_qsize 3, out_qsize 0\n",
      "INFO:gensim.models.base_any2vec:EPOCH 8 - PROGRESS: at 87.49% examples, 364042 words/s, in_qsize 3, out_qsize 0\n",
      "INFO:gensim.models.base_any2vec:EPOCH 8 - PROGRESS: at 92.94% examples, 365850 words/s, in_qsize 3, out_qsize 0\n",
      "INFO:gensim.models.base_any2vec:EPOCH 8 - PROGRESS: at 97.99% examples, 364510 words/s, in_qsize 4, out_qsize 0\n",
      "DEBUG:gensim.models.base_any2vec:job loop exiting, total 881 jobs\n",
      "DEBUG:gensim.models.base_any2vec:worker exiting, processed 441 jobs\n",
      "INFO:gensim.models.base_any2vec:worker thread finished; awaiting finish of 1 more threads\n",
      "DEBUG:gensim.models.base_any2vec:worker exiting, processed 440 jobs\n",
      "INFO:gensim.models.base_any2vec:worker thread finished; awaiting finish of 0 more threads\n",
      "INFO:gensim.models.base_any2vec:EPOCH - 8 : training on 8802600 raw words (7173873 effective words) took 19.7s, 364496 effective words/s\n",
      "INFO:gensim.models.word2vec:reading file data/processed/trigram/documents.txt\n",
      "DEBUG:smart_open.smart_open_lib:{'uri': 'data/processed/trigram/documents.txt', 'mode': 'rb', 'buffering': -1, 'encoding': None, 'errors': None, 'newline': None, 'closefd': True, 'opener': None, 'compression': 'infer_from_extension', 'transport_params': None}\n",
      "INFO:gensim.models.base_any2vec:EPOCH 9 - PROGRESS: at 4.28% examples, 297567 words/s, in_qsize 3, out_qsize 0\n",
      "INFO:gensim.models.base_any2vec:EPOCH 9 - PROGRESS: at 10.20% examples, 360708 words/s, in_qsize 3, out_qsize 0\n",
      "INFO:gensim.models.base_any2vec:EPOCH 9 - PROGRESS: at 14.78% examples, 351482 words/s, in_qsize 4, out_qsize 0\n",
      "INFO:gensim.models.base_any2vec:EPOCH 9 - PROGRESS: at 20.64% examples, 363425 words/s, in_qsize 4, out_qsize 0\n",
      "INFO:gensim.models.base_any2vec:EPOCH 9 - PROGRESS: at 25.11% examples, 351396 words/s, in_qsize 3, out_qsize 0\n",
      "INFO:gensim.models.base_any2vec:EPOCH 9 - PROGRESS: at 30.48% examples, 355972 words/s, in_qsize 3, out_qsize 0\n",
      "INFO:gensim.models.base_any2vec:EPOCH 9 - PROGRESS: at 35.89% examples, 360015 words/s, in_qsize 3, out_qsize 0\n",
      "INFO:gensim.models.base_any2vec:EPOCH 9 - PROGRESS: at 40.71% examples, 358181 words/s, in_qsize 3, out_qsize 0\n",
      "INFO:gensim.models.base_any2vec:EPOCH 9 - PROGRESS: at 45.99% examples, 359598 words/s, in_qsize 3, out_qsize 0\n",
      "INFO:gensim.models.base_any2vec:EPOCH 9 - PROGRESS: at 51.12% examples, 361998 words/s, in_qsize 3, out_qsize 0\n",
      "INFO:gensim.models.base_any2vec:EPOCH 9 - PROGRESS: at 56.36% examples, 363302 words/s, in_qsize 3, out_qsize 0\n",
      "INFO:gensim.models.base_any2vec:EPOCH 9 - PROGRESS: at 60.12% examples, 354439 words/s, in_qsize 3, out_qsize 0\n",
      "INFO:gensim.models.base_any2vec:EPOCH 9 - PROGRESS: at 65.76% examples, 356886 words/s, in_qsize 3, out_qsize 0\n",
      "INFO:gensim.models.base_any2vec:EPOCH 9 - PROGRESS: at 70.76% examples, 356247 words/s, in_qsize 3, out_qsize 0\n",
      "INFO:gensim.models.base_any2vec:EPOCH 9 - PROGRESS: at 76.02% examples, 352379 words/s, in_qsize 3, out_qsize 0\n",
      "INFO:gensim.models.base_any2vec:EPOCH 9 - PROGRESS: at 81.12% examples, 353726 words/s, in_qsize 4, out_qsize 0\n",
      "INFO:gensim.models.base_any2vec:EPOCH 9 - PROGRESS: at 86.49% examples, 356015 words/s, in_qsize 3, out_qsize 0\n",
      "INFO:gensim.models.base_any2vec:EPOCH 9 - PROGRESS: at 91.55% examples, 356868 words/s, in_qsize 4, out_qsize 0\n",
      "INFO:gensim.models.base_any2vec:EPOCH 9 - PROGRESS: at 96.22% examples, 355373 words/s, in_qsize 3, out_qsize 0\n",
      "DEBUG:gensim.models.base_any2vec:job loop exiting, total 881 jobs\n",
      "DEBUG:gensim.models.base_any2vec:worker exiting, processed 439 jobs\n",
      "INFO:gensim.models.base_any2vec:worker thread finished; awaiting finish of 1 more threads\n",
      "DEBUG:gensim.models.base_any2vec:worker exiting, processed 442 jobs\n",
      "INFO:gensim.models.base_any2vec:worker thread finished; awaiting finish of 0 more threads\n",
      "INFO:gensim.models.base_any2vec:EPOCH - 9 : training on 8802600 raw words (7173307 effective words) took 20.1s, 357389 effective words/s\n",
      "INFO:gensim.models.word2vec:reading file data/processed/trigram/documents.txt\n",
      "DEBUG:smart_open.smart_open_lib:{'uri': 'data/processed/trigram/documents.txt', 'mode': 'rb', 'buffering': -1, 'encoding': None, 'errors': None, 'newline': None, 'closefd': True, 'opener': None, 'compression': 'infer_from_extension', 'transport_params': None}\n",
      "INFO:gensim.models.base_any2vec:EPOCH 10 - PROGRESS: at 5.43% examples, 381565 words/s, in_qsize 3, out_qsize 0\n",
      "INFO:gensim.models.base_any2vec:EPOCH 10 - PROGRESS: at 10.69% examples, 378390 words/s, in_qsize 3, out_qsize 0\n",
      "INFO:gensim.models.base_any2vec:EPOCH 10 - PROGRESS: at 15.14% examples, 361401 words/s, in_qsize 3, out_qsize 0\n",
      "INFO:gensim.models.base_any2vec:EPOCH 10 - PROGRESS: at 20.38% examples, 360253 words/s, in_qsize 3, out_qsize 0\n",
      "INFO:gensim.models.base_any2vec:EPOCH 10 - PROGRESS: at 25.96% examples, 364478 words/s, in_qsize 3, out_qsize 0\n",
      "INFO:gensim.models.base_any2vec:EPOCH 10 - PROGRESS: at 29.94% examples, 350351 words/s, in_qsize 3, out_qsize 1\n",
      "INFO:gensim.models.base_any2vec:EPOCH 10 - PROGRESS: at 35.28% examples, 355169 words/s, in_qsize 3, out_qsize 0\n",
      "INFO:gensim.models.base_any2vec:EPOCH 10 - PROGRESS: at 41.16% examples, 362180 words/s, in_qsize 3, out_qsize 0\n",
      "INFO:gensim.models.base_any2vec:EPOCH 10 - PROGRESS: at 46.10% examples, 361423 words/s, in_qsize 3, out_qsize 0\n",
      "INFO:gensim.models.base_any2vec:EPOCH 10 - PROGRESS: at 50.22% examples, 355833 words/s, in_qsize 4, out_qsize 0\n",
      "INFO:gensim.models.base_any2vec:EPOCH 10 - PROGRESS: at 55.68% examples, 359048 words/s, in_qsize 3, out_qsize 0\n",
      "INFO:gensim.models.base_any2vec:EPOCH 10 - PROGRESS: at 60.24% examples, 355198 words/s, in_qsize 3, out_qsize 0\n",
      "INFO:gensim.models.base_any2vec:EPOCH 10 - PROGRESS: at 65.76% examples, 353921 words/s, in_qsize 3, out_qsize 0\n",
      "INFO:gensim.models.base_any2vec:EPOCH 10 - PROGRESS: at 71.62% examples, 356753 words/s, in_qsize 3, out_qsize 0\n",
      "INFO:gensim.models.base_any2vec:EPOCH 10 - PROGRESS: at 76.66% examples, 357136 words/s, in_qsize 3, out_qsize 0\n",
      "INFO:gensim.models.base_any2vec:EPOCH 10 - PROGRESS: at 81.81% examples, 358211 words/s, in_qsize 3, out_qsize 0\n",
      "INFO:gensim.models.base_any2vec:EPOCH 10 - PROGRESS: at 86.39% examples, 356868 words/s, in_qsize 3, out_qsize 0\n",
      "INFO:gensim.models.base_any2vec:EPOCH 10 - PROGRESS: at 91.19% examples, 356726 words/s, in_qsize 3, out_qsize 0\n",
      "INFO:gensim.models.base_any2vec:EPOCH 10 - PROGRESS: at 96.33% examples, 356829 words/s, in_qsize 3, out_qsize 0\n",
      "DEBUG:gensim.models.base_any2vec:job loop exiting, total 881 jobs\n",
      "DEBUG:gensim.models.base_any2vec:worker exiting, processed 438 jobs\n"
     ]
    },
    {
     "name": "stdout",
     "output_type": "stream",
     "text": [
      "INFO:gensim.models.base_any2vec:worker thread finished; awaiting finish of 1 more threads\n",
      "DEBUG:gensim.models.base_any2vec:worker exiting, processed 443 jobs\n",
      "INFO:gensim.models.base_any2vec:worker thread finished; awaiting finish of 0 more threads\n",
      "INFO:gensim.models.base_any2vec:EPOCH - 10 : training on 8802600 raw words (7174385 effective words) took 20.0s, 358496 effective words/s\n",
      "INFO:gensim.models.word2vec:reading file data/processed/trigram/documents.txt\n",
      "DEBUG:smart_open.smart_open_lib:{'uri': 'data/processed/trigram/documents.txt', 'mode': 'rb', 'buffering': -1, 'encoding': None, 'errors': None, 'newline': None, 'closefd': True, 'opener': None, 'compression': 'infer_from_extension', 'transport_params': None}\n",
      "INFO:gensim.models.base_any2vec:EPOCH 11 - PROGRESS: at 3.71% examples, 262017 words/s, in_qsize 3, out_qsize 0\n",
      "INFO:gensim.models.base_any2vec:EPOCH 11 - PROGRESS: at 9.30% examples, 330046 words/s, in_qsize 3, out_qsize 0\n",
      "INFO:gensim.models.base_any2vec:EPOCH 11 - PROGRESS: at 14.67% examples, 350722 words/s, in_qsize 3, out_qsize 0\n",
      "INFO:gensim.models.base_any2vec:EPOCH 11 - PROGRESS: at 19.32% examples, 322525 words/s, in_qsize 3, out_qsize 1\n",
      "INFO:gensim.models.base_any2vec:EPOCH 11 - PROGRESS: at 25.36% examples, 338798 words/s, in_qsize 3, out_qsize 0\n",
      "INFO:gensim.models.base_any2vec:EPOCH 11 - PROGRESS: at 30.93% examples, 347881 words/s, in_qsize 3, out_qsize 0\n",
      "INFO:gensim.models.base_any2vec:EPOCH 11 - PROGRESS: at 35.53% examples, 345296 words/s, in_qsize 4, out_qsize 0\n",
      "INFO:gensim.models.base_any2vec:EPOCH 11 - PROGRESS: at 39.49% examples, 337198 words/s, in_qsize 4, out_qsize 0\n",
      "INFO:gensim.models.base_any2vec:EPOCH 11 - PROGRESS: at 44.66% examples, 341153 words/s, in_qsize 3, out_qsize 0\n",
      "INFO:gensim.models.base_any2vec:EPOCH 11 - PROGRESS: at 49.87% examples, 345430 words/s, in_qsize 3, out_qsize 1\n",
      "INFO:gensim.models.base_any2vec:EPOCH 11 - PROGRESS: at 55.32% examples, 349727 words/s, in_qsize 3, out_qsize 0\n",
      "INFO:gensim.models.base_any2vec:EPOCH 11 - PROGRESS: at 59.40% examples, 343453 words/s, in_qsize 3, out_qsize 0\n",
      "INFO:gensim.models.base_any2vec:EPOCH 11 - PROGRESS: at 65.30% examples, 347827 words/s, in_qsize 3, out_qsize 0\n",
      "INFO:gensim.models.base_any2vec:EPOCH 11 - PROGRESS: at 71.96% examples, 355577 words/s, in_qsize 4, out_qsize 0\n",
      "INFO:gensim.models.base_any2vec:EPOCH 11 - PROGRESS: at 75.57% examples, 348390 words/s, in_qsize 4, out_qsize 0\n",
      "INFO:gensim.models.base_any2vec:EPOCH 11 - PROGRESS: at 80.76% examples, 350229 words/s, in_qsize 3, out_qsize 0\n",
      "INFO:gensim.models.base_any2vec:EPOCH 11 - PROGRESS: at 86.28% examples, 352739 words/s, in_qsize 3, out_qsize 0\n",
      "INFO:gensim.models.base_any2vec:EPOCH 11 - PROGRESS: at 90.39% examples, 349995 words/s, in_qsize 3, out_qsize 0\n",
      "INFO:gensim.models.base_any2vec:EPOCH 11 - PROGRESS: at 96.10% examples, 352618 words/s, in_qsize 3, out_qsize 0\n",
      "DEBUG:gensim.models.base_any2vec:job loop exiting, total 881 jobs\n",
      "DEBUG:gensim.models.base_any2vec:worker exiting, processed 442 jobs\n",
      "INFO:gensim.models.base_any2vec:worker thread finished; awaiting finish of 1 more threads\n",
      "DEBUG:gensim.models.base_any2vec:worker exiting, processed 439 jobs\n",
      "INFO:gensim.models.base_any2vec:worker thread finished; awaiting finish of 0 more threads\n",
      "INFO:gensim.models.base_any2vec:EPOCH - 11 : training on 8802600 raw words (7174146 effective words) took 20.3s, 354237 effective words/s\n",
      "INFO:gensim.models.word2vec:reading file data/processed/trigram/documents.txt\n",
      "DEBUG:smart_open.smart_open_lib:{'uri': 'data/processed/trigram/documents.txt', 'mode': 'rb', 'buffering': -1, 'encoding': None, 'errors': None, 'newline': None, 'closefd': True, 'opener': None, 'compression': 'infer_from_extension', 'transport_params': None}\n",
      "INFO:gensim.models.base_any2vec:EPOCH 12 - PROGRESS: at 4.96% examples, 351638 words/s, in_qsize 4, out_qsize 0\n",
      "INFO:gensim.models.base_any2vec:EPOCH 12 - PROGRESS: at 9.74% examples, 349205 words/s, in_qsize 3, out_qsize 0\n",
      "INFO:gensim.models.base_any2vec:EPOCH 12 - PROGRESS: at 15.14% examples, 360250 words/s, in_qsize 3, out_qsize 0\n",
      "INFO:gensim.models.base_any2vec:EPOCH 12 - PROGRESS: at 21.22% examples, 374018 words/s, in_qsize 3, out_qsize 0\n",
      "INFO:gensim.models.base_any2vec:EPOCH 12 - PROGRESS: at 26.20% examples, 350120 words/s, in_qsize 4, out_qsize 0\n",
      "INFO:gensim.models.base_any2vec:EPOCH 12 - PROGRESS: at 31.49% examples, 355406 words/s, in_qsize 3, out_qsize 0\n",
      "INFO:gensim.models.base_any2vec:EPOCH 12 - PROGRESS: at 36.80% examples, 358021 words/s, in_qsize 4, out_qsize 0\n",
      "INFO:gensim.models.base_any2vec:EPOCH 12 - PROGRESS: at 42.38% examples, 363744 words/s, in_qsize 3, out_qsize 0\n",
      "INFO:gensim.models.base_any2vec:EPOCH 12 - PROGRESS: at 46.76% examples, 358687 words/s, in_qsize 3, out_qsize 0\n",
      "INFO:gensim.models.base_any2vec:EPOCH 12 - PROGRESS: at 51.69% examples, 359309 words/s, in_qsize 3, out_qsize 0\n",
      "INFO:gensim.models.base_any2vec:EPOCH 12 - PROGRESS: at 57.05% examples, 360767 words/s, in_qsize 3, out_qsize 0\n",
      "INFO:gensim.models.base_any2vec:EPOCH 12 - PROGRESS: at 61.20% examples, 354053 words/s, in_qsize 3, out_qsize 0\n",
      "INFO:gensim.models.base_any2vec:EPOCH 12 - PROGRESS: at 65.76% examples, 350991 words/s, in_qsize 3, out_qsize 0\n",
      "INFO:gensim.models.base_any2vec:EPOCH 12 - PROGRESS: at 72.08% examples, 356766 words/s, in_qsize 4, out_qsize 0\n",
      "INFO:gensim.models.base_any2vec:EPOCH 12 - PROGRESS: at 77.41% examples, 358767 words/s, in_qsize 3, out_qsize 0\n",
      "INFO:gensim.models.base_any2vec:EPOCH 12 - PROGRESS: at 80.76% examples, 351815 words/s, in_qsize 3, out_qsize 0\n",
      "INFO:gensim.models.base_any2vec:EPOCH 12 - PROGRESS: at 85.96% examples, 352784 words/s, in_qsize 3, out_qsize 0\n",
      "INFO:gensim.models.base_any2vec:EPOCH 12 - PROGRESS: at 91.32% examples, 354955 words/s, in_qsize 3, out_qsize 0\n",
      "INFO:gensim.models.base_any2vec:EPOCH 12 - PROGRESS: at 96.77% examples, 356519 words/s, in_qsize 3, out_qsize 0\n",
      "DEBUG:gensim.models.base_any2vec:job loop exiting, total 881 jobs\n",
      "DEBUG:gensim.models.base_any2vec:worker exiting, processed 440 jobs\n",
      "INFO:gensim.models.base_any2vec:worker thread finished; awaiting finish of 1 more threads\n",
      "DEBUG:gensim.models.base_any2vec:worker exiting, processed 441 jobs\n",
      "INFO:gensim.models.base_any2vec:worker thread finished; awaiting finish of 0 more threads\n",
      "INFO:gensim.models.base_any2vec:EPOCH - 12 : training on 8802600 raw words (7173776 effective words) took 20.3s, 352920 effective words/s\n",
      "INFO:gensim.models.word2vec:reading file data/processed/trigram/documents.txt\n",
      "DEBUG:smart_open.smart_open_lib:{'uri': 'data/processed/trigram/documents.txt', 'mode': 'rb', 'buffering': -1, 'encoding': None, 'errors': None, 'newline': None, 'closefd': True, 'opener': None, 'compression': 'infer_from_extension', 'transport_params': None}\n",
      "INFO:gensim.models.base_any2vec:EPOCH 13 - PROGRESS: at 5.64% examples, 399854 words/s, in_qsize 3, out_qsize 0\n",
      "INFO:gensim.models.base_any2vec:EPOCH 13 - PROGRESS: at 10.56% examples, 376346 words/s, in_qsize 3, out_qsize 0\n",
      "INFO:gensim.models.base_any2vec:EPOCH 13 - PROGRESS: at 15.14% examples, 360649 words/s, in_qsize 3, out_qsize 0\n",
      "INFO:gensim.models.base_any2vec:EPOCH 13 - PROGRESS: at 21.11% examples, 373272 words/s, in_qsize 3, out_qsize 0\n",
      "INFO:gensim.models.base_any2vec:EPOCH 13 - PROGRESS: at 26.74% examples, 374103 words/s, in_qsize 3, out_qsize 0\n",
      "INFO:gensim.models.base_any2vec:EPOCH 13 - PROGRESS: at 32.04% examples, 375147 words/s, in_qsize 3, out_qsize 0\n",
      "INFO:gensim.models.base_any2vec:EPOCH 13 - PROGRESS: at 36.69% examples, 368454 words/s, in_qsize 3, out_qsize 0\n",
      "INFO:gensim.models.base_any2vec:EPOCH 13 - PROGRESS: at 42.04% examples, 370348 words/s, in_qsize 3, out_qsize 0\n",
      "INFO:gensim.models.base_any2vec:EPOCH 13 - PROGRESS: at 47.73% examples, 375446 words/s, in_qsize 3, out_qsize 0\n",
      "INFO:gensim.models.base_any2vec:EPOCH 13 - PROGRESS: at 51.80% examples, 367363 words/s, in_qsize 3, out_qsize 0\n",
      "INFO:gensim.models.base_any2vec:EPOCH 13 - PROGRESS: at 57.05% examples, 367523 words/s, in_qsize 3, out_qsize 0\n",
      "INFO:gensim.models.base_any2vec:EPOCH 13 - PROGRESS: at 63.75% examples, 374969 words/s, in_qsize 3, out_qsize 0\n",
      "INFO:gensim.models.base_any2vec:EPOCH 13 - PROGRESS: at 69.61% examples, 376510 words/s, in_qsize 3, out_qsize 0\n"
     ]
    },
    {
     "name": "stdout",
     "output_type": "stream",
     "text": [
      "INFO:gensim.models.base_any2vec:EPOCH 13 - PROGRESS: at 76.66% examples, 385539 words/s, in_qsize 3, out_qsize 0\n",
      "INFO:gensim.models.base_any2vec:EPOCH 13 - PROGRESS: at 82.39% examples, 387402 words/s, in_qsize 3, out_qsize 0\n",
      "INFO:gensim.models.base_any2vec:EPOCH 13 - PROGRESS: at 87.49% examples, 386578 words/s, in_qsize 3, out_qsize 0\n",
      "INFO:gensim.models.base_any2vec:EPOCH 13 - PROGRESS: at 94.21% examples, 392446 words/s, in_qsize 3, out_qsize 0\n",
      "DEBUG:gensim.models.base_any2vec:job loop exiting, total 881 jobs\n",
      "DEBUG:gensim.models.base_any2vec:worker exiting, processed 439 jobs\n",
      "INFO:gensim.models.base_any2vec:worker thread finished; awaiting finish of 1 more threads\n",
      "DEBUG:gensim.models.base_any2vec:worker exiting, processed 442 jobs\n",
      "INFO:gensim.models.base_any2vec:worker thread finished; awaiting finish of 0 more threads\n",
      "INFO:gensim.models.base_any2vec:EPOCH - 13 : training on 8802600 raw words (7173877 effective words) took 18.0s, 398070 effective words/s\n",
      "INFO:gensim.models.word2vec:reading file data/processed/trigram/documents.txt\n",
      "DEBUG:smart_open.smart_open_lib:{'uri': 'data/processed/trigram/documents.txt', 'mode': 'rb', 'buffering': -1, 'encoding': None, 'errors': None, 'newline': None, 'closefd': True, 'opener': None, 'compression': 'infer_from_extension', 'transport_params': None}\n",
      "INFO:gensim.models.base_any2vec:EPOCH 14 - PROGRESS: at 3.83% examples, 267749 words/s, in_qsize 3, out_qsize 0\n",
      "INFO:gensim.models.base_any2vec:EPOCH 14 - PROGRESS: at 7.77% examples, 272727 words/s, in_qsize 3, out_qsize 0\n",
      "INFO:gensim.models.base_any2vec:EPOCH 14 - PROGRESS: at 11.46% examples, 270301 words/s, in_qsize 3, out_qsize 0\n",
      "INFO:gensim.models.base_any2vec:EPOCH 14 - PROGRESS: at 15.14% examples, 270326 words/s, in_qsize 3, out_qsize 0\n",
      "INFO:gensim.models.base_any2vec:EPOCH 14 - PROGRESS: at 18.63% examples, 262849 words/s, in_qsize 3, out_qsize 0\n",
      "INFO:gensim.models.base_any2vec:EPOCH 14 - PROGRESS: at 22.14% examples, 258503 words/s, in_qsize 3, out_qsize 0\n",
      "INFO:gensim.models.base_any2vec:EPOCH 14 - PROGRESS: at 25.11% examples, 250436 words/s, in_qsize 3, out_qsize 0\n",
      "INFO:gensim.models.base_any2vec:EPOCH 14 - PROGRESS: at 29.59% examples, 258032 words/s, in_qsize 3, out_qsize 0\n",
      "INFO:gensim.models.base_any2vec:EPOCH 14 - PROGRESS: at 34.72% examples, 270183 words/s, in_qsize 3, out_qsize 0\n",
      "INFO:gensim.models.base_any2vec:EPOCH 14 - PROGRESS: at 40.14% examples, 279756 words/s, in_qsize 4, out_qsize 0\n",
      "INFO:gensim.models.base_any2vec:EPOCH 14 - PROGRESS: at 45.12% examples, 286809 words/s, in_qsize 3, out_qsize 0\n",
      "INFO:gensim.models.base_any2vec:EPOCH 14 - PROGRESS: at 50.22% examples, 294673 words/s, in_qsize 3, out_qsize 0\n",
      "INFO:gensim.models.base_any2vec:EPOCH 14 - PROGRESS: at 55.32% examples, 300162 words/s, in_qsize 3, out_qsize 0\n",
      "INFO:gensim.models.base_any2vec:EPOCH 14 - PROGRESS: at 59.28% examples, 298219 words/s, in_qsize 3, out_qsize 0\n",
      "INFO:gensim.models.base_any2vec:EPOCH 14 - PROGRESS: at 64.95% examples, 303709 words/s, in_qsize 3, out_qsize 0\n",
      "INFO:gensim.models.base_any2vec:EPOCH 14 - PROGRESS: at 70.54% examples, 308965 words/s, in_qsize 3, out_qsize 0\n",
      "INFO:gensim.models.base_any2vec:EPOCH 14 - PROGRESS: at 75.80% examples, 312063 words/s, in_qsize 3, out_qsize 0\n",
      "INFO:gensim.models.base_any2vec:EPOCH 14 - PROGRESS: at 80.19% examples, 312476 words/s, in_qsize 3, out_qsize 0\n",
      "INFO:gensim.models.base_any2vec:EPOCH 14 - PROGRESS: at 85.96% examples, 317692 words/s, in_qsize 3, out_qsize 0\n",
      "INFO:gensim.models.base_any2vec:EPOCH 14 - PROGRESS: at 91.19% examples, 320881 words/s, in_qsize 4, out_qsize 0\n",
      "INFO:gensim.models.base_any2vec:EPOCH 14 - PROGRESS: at 95.22% examples, 318928 words/s, in_qsize 3, out_qsize 0\n",
      "DEBUG:gensim.models.base_any2vec:job loop exiting, total 881 jobs\n",
      "DEBUG:gensim.models.base_any2vec:worker exiting, processed 443 jobs\n",
      "INFO:gensim.models.base_any2vec:worker thread finished; awaiting finish of 1 more threads\n",
      "DEBUG:gensim.models.base_any2vec:worker exiting, processed 438 jobs\n",
      "INFO:gensim.models.base_any2vec:worker thread finished; awaiting finish of 0 more threads\n",
      "INFO:gensim.models.base_any2vec:EPOCH - 14 : training on 8802600 raw words (7175597 effective words) took 22.2s, 322911 effective words/s\n",
      "INFO:gensim.models.word2vec:reading file data/processed/trigram/documents.txt\n",
      "DEBUG:smart_open.smart_open_lib:{'uri': 'data/processed/trigram/documents.txt', 'mode': 'rb', 'buffering': -1, 'encoding': None, 'errors': None, 'newline': None, 'closefd': True, 'opener': None, 'compression': 'infer_from_extension', 'transport_params': None}\n",
      "INFO:gensim.models.base_any2vec:EPOCH 15 - PROGRESS: at 5.19% examples, 366689 words/s, in_qsize 3, out_qsize 0\n",
      "INFO:gensim.models.base_any2vec:EPOCH 15 - PROGRESS: at 10.69% examples, 381474 words/s, in_qsize 3, out_qsize 0\n",
      "INFO:gensim.models.base_any2vec:EPOCH 15 - PROGRESS: at 15.02% examples, 359563 words/s, in_qsize 4, out_qsize 0\n",
      "INFO:gensim.models.base_any2vec:EPOCH 15 - PROGRESS: at 20.27% examples, 359777 words/s, in_qsize 3, out_qsize 0\n",
      "INFO:gensim.models.base_any2vec:EPOCH 15 - PROGRESS: at 25.96% examples, 366173 words/s, in_qsize 3, out_qsize 0\n",
      "INFO:gensim.models.base_any2vec:EPOCH 15 - PROGRESS: at 31.16% examples, 366631 words/s, in_qsize 3, out_qsize 0\n",
      "INFO:gensim.models.base_any2vec:EPOCH 15 - PROGRESS: at 34.49% examples, 348354 words/s, in_qsize 3, out_qsize 0\n",
      "INFO:gensim.models.base_any2vec:EPOCH 15 - PROGRESS: at 40.14% examples, 354325 words/s, in_qsize 3, out_qsize 0\n",
      "INFO:gensim.models.base_any2vec:EPOCH 15 - PROGRESS: at 45.34% examples, 355996 words/s, in_qsize 3, out_qsize 0\n",
      "INFO:gensim.models.base_any2vec:EPOCH 15 - PROGRESS: at 49.43% examples, 347238 words/s, in_qsize 2, out_qsize 1\n",
      "INFO:gensim.models.base_any2vec:EPOCH 15 - PROGRESS: at 54.03% examples, 346209 words/s, in_qsize 3, out_qsize 0\n",
      "INFO:gensim.models.base_any2vec:EPOCH 15 - PROGRESS: at 59.63% examples, 348750 words/s, in_qsize 3, out_qsize 0\n",
      "INFO:gensim.models.base_any2vec:EPOCH 15 - PROGRESS: at 64.95% examples, 349886 words/s, in_qsize 3, out_qsize 0\n",
      "INFO:gensim.models.base_any2vec:EPOCH 15 - PROGRESS: at 69.38% examples, 346778 words/s, in_qsize 4, out_qsize 0\n",
      "INFO:gensim.models.base_any2vec:EPOCH 15 - PROGRESS: at 74.59% examples, 347386 words/s, in_qsize 3, out_qsize 0\n",
      "INFO:gensim.models.base_any2vec:EPOCH 15 - PROGRESS: at 79.26% examples, 347292 words/s, in_qsize 3, out_qsize 0\n",
      "INFO:gensim.models.base_any2vec:EPOCH 15 - PROGRESS: at 84.05% examples, 346805 words/s, in_qsize 2, out_qsize 1\n",
      "INFO:gensim.models.base_any2vec:EPOCH 15 - PROGRESS: at 88.03% examples, 343913 words/s, in_qsize 3, out_qsize 0\n",
      "INFO:gensim.models.base_any2vec:EPOCH 15 - PROGRESS: at 93.07% examples, 345383 words/s, in_qsize 3, out_qsize 0\n",
      "INFO:gensim.models.base_any2vec:EPOCH 15 - PROGRESS: at 98.22% examples, 345916 words/s, in_qsize 3, out_qsize 0\n",
      "DEBUG:gensim.models.base_any2vec:job loop exiting, total 881 jobs\n",
      "DEBUG:gensim.models.base_any2vec:worker exiting, processed 439 jobs\n",
      "INFO:gensim.models.base_any2vec:worker thread finished; awaiting finish of 1 more threads\n",
      "DEBUG:gensim.models.base_any2vec:worker exiting, processed 442 jobs\n",
      "INFO:gensim.models.base_any2vec:worker thread finished; awaiting finish of 0 more threads\n",
      "INFO:gensim.models.base_any2vec:EPOCH - 15 : training on 8802600 raw words (7173817 effective words) took 20.7s, 346375 effective words/s\n",
      "INFO:gensim.models.word2vec:reading file data/processed/trigram/documents.txt\n",
      "DEBUG:smart_open.smart_open_lib:{'uri': 'data/processed/trigram/documents.txt', 'mode': 'rb', 'buffering': -1, 'encoding': None, 'errors': None, 'newline': None, 'closefd': True, 'opener': None, 'compression': 'infer_from_extension', 'transport_params': None}\n",
      "INFO:gensim.models.base_any2vec:EPOCH 16 - PROGRESS: at 4.61% examples, 326603 words/s, in_qsize 3, out_qsize 0\n",
      "INFO:gensim.models.base_any2vec:EPOCH 16 - PROGRESS: at 9.52% examples, 339011 words/s, in_qsize 3, out_qsize 0\n",
      "INFO:gensim.models.base_any2vec:EPOCH 16 - PROGRESS: at 14.55% examples, 346865 words/s, in_qsize 3, out_qsize 0\n",
      "INFO:gensim.models.base_any2vec:EPOCH 16 - PROGRESS: at 20.27% examples, 359075 words/s, in_qsize 3, out_qsize 0\n",
      "INFO:gensim.models.base_any2vec:EPOCH 16 - PROGRESS: at 25.11% examples, 354104 words/s, in_qsize 3, out_qsize 0\n"
     ]
    },
    {
     "name": "stdout",
     "output_type": "stream",
     "text": [
      "INFO:gensim.models.base_any2vec:EPOCH 16 - PROGRESS: at 30.72% examples, 361388 words/s, in_qsize 3, out_qsize 0\n",
      "INFO:gensim.models.base_any2vec:EPOCH 16 - PROGRESS: at 36.59% examples, 369316 words/s, in_qsize 3, out_qsize 0\n",
      "INFO:gensim.models.base_any2vec:EPOCH 16 - PROGRESS: at 40.71% examples, 360788 words/s, in_qsize 3, out_qsize 0\n",
      "INFO:gensim.models.base_any2vec:EPOCH 16 - PROGRESS: at 46.54% examples, 367096 words/s, in_qsize 4, out_qsize 0\n",
      "INFO:gensim.models.base_any2vec:EPOCH 16 - PROGRESS: at 52.12% examples, 371467 words/s, in_qsize 4, out_qsize 0\n",
      "INFO:gensim.models.base_any2vec:EPOCH 16 - PROGRESS: at 57.63% examples, 366277 words/s, in_qsize 4, out_qsize 1\n",
      "INFO:gensim.models.base_any2vec:EPOCH 16 - PROGRESS: at 63.99% examples, 371259 words/s, in_qsize 3, out_qsize 0\n",
      "INFO:gensim.models.base_any2vec:EPOCH 16 - PROGRESS: at 70.43% examples, 376867 words/s, in_qsize 3, out_qsize 0\n",
      "INFO:gensim.models.base_any2vec:EPOCH 16 - PROGRESS: at 75.46% examples, 375246 words/s, in_qsize 3, out_qsize 0\n",
      "INFO:gensim.models.base_any2vec:EPOCH 16 - PROGRESS: at 79.26% examples, 369138 words/s, in_qsize 3, out_qsize 0\n",
      "INFO:gensim.models.base_any2vec:EPOCH 16 - PROGRESS: at 84.84% examples, 371031 words/s, in_qsize 3, out_qsize 0\n",
      "INFO:gensim.models.base_any2vec:EPOCH 16 - PROGRESS: at 90.06% examples, 372144 words/s, in_qsize 3, out_qsize 0\n",
      "INFO:gensim.models.base_any2vec:EPOCH 16 - PROGRESS: at 94.08% examples, 367281 words/s, in_qsize 3, out_qsize 0\n",
      "DEBUG:gensim.models.base_any2vec:job loop exiting, total 881 jobs\n",
      "INFO:gensim.models.base_any2vec:EPOCH 16 - PROGRESS: at 99.67% examples, 368708 words/s, in_qsize 3, out_qsize 0\n",
      "DEBUG:gensim.models.base_any2vec:worker exiting, processed 441 jobs\n",
      "INFO:gensim.models.base_any2vec:worker thread finished; awaiting finish of 1 more threads\n",
      "DEBUG:gensim.models.base_any2vec:worker exiting, processed 440 jobs\n",
      "INFO:gensim.models.base_any2vec:worker thread finished; awaiting finish of 0 more threads\n",
      "INFO:gensim.models.base_any2vec:EPOCH - 16 : training on 8802600 raw words (7173242 effective words) took 19.5s, 368747 effective words/s\n",
      "INFO:gensim.models.word2vec:reading file data/processed/trigram/documents.txt\n",
      "DEBUG:smart_open.smart_open_lib:{'uri': 'data/processed/trigram/documents.txt', 'mode': 'rb', 'buffering': -1, 'encoding': None, 'errors': None, 'newline': None, 'closefd': True, 'opener': None, 'compression': 'infer_from_extension', 'transport_params': None}\n",
      "INFO:gensim.models.base_any2vec:EPOCH 17 - PROGRESS: at 5.19% examples, 364222 words/s, in_qsize 3, out_qsize 0\n",
      "INFO:gensim.models.base_any2vec:EPOCH 17 - PROGRESS: at 11.03% examples, 387557 words/s, in_qsize 3, out_qsize 0\n",
      "INFO:gensim.models.base_any2vec:EPOCH 17 - PROGRESS: at 15.49% examples, 365897 words/s, in_qsize 3, out_qsize 0\n",
      "INFO:gensim.models.base_any2vec:EPOCH 17 - PROGRESS: at 20.76% examples, 364890 words/s, in_qsize 4, out_qsize 0\n",
      "INFO:gensim.models.base_any2vec:EPOCH 17 - PROGRESS: at 26.52% examples, 370429 words/s, in_qsize 4, out_qsize 0\n",
      "INFO:gensim.models.base_any2vec:EPOCH 17 - PROGRESS: at 30.82% examples, 359796 words/s, in_qsize 4, out_qsize 0\n",
      "INFO:gensim.models.base_any2vec:EPOCH 17 - PROGRESS: at 36.59% examples, 365904 words/s, in_qsize 4, out_qsize 0\n",
      "INFO:gensim.models.base_any2vec:EPOCH 17 - PROGRESS: at 42.38% examples, 371712 words/s, in_qsize 3, out_qsize 0\n",
      "INFO:gensim.models.base_any2vec:EPOCH 17 - PROGRESS: at 47.30% examples, 367880 words/s, in_qsize 3, out_qsize 0\n",
      "INFO:gensim.models.base_any2vec:EPOCH 17 - PROGRESS: at 51.80% examples, 364165 words/s, in_qsize 4, out_qsize 1\n",
      "INFO:gensim.models.base_any2vec:EPOCH 17 - PROGRESS: at 57.51% examples, 367899 words/s, in_qsize 4, out_qsize 0\n",
      "INFO:gensim.models.base_any2vec:EPOCH 17 - PROGRESS: at 63.16% examples, 368921 words/s, in_qsize 4, out_qsize 0\n",
      "INFO:gensim.models.base_any2vec:EPOCH 17 - PROGRESS: at 67.43% examples, 362690 words/s, in_qsize 3, out_qsize 0\n",
      "INFO:gensim.models.base_any2vec:EPOCH 17 - PROGRESS: at 72.55% examples, 361439 words/s, in_qsize 3, out_qsize 0\n",
      "INFO:gensim.models.base_any2vec:EPOCH 17 - PROGRESS: at 77.41% examples, 360732 words/s, in_qsize 3, out_qsize 0\n",
      "INFO:gensim.models.base_any2vec:EPOCH 17 - PROGRESS: at 82.60% examples, 361442 words/s, in_qsize 3, out_qsize 0\n",
      "INFO:gensim.models.base_any2vec:EPOCH 17 - PROGRESS: at 87.28% examples, 360161 words/s, in_qsize 3, out_qsize 0\n",
      "INFO:gensim.models.base_any2vec:EPOCH 17 - PROGRESS: at 92.42% examples, 361102 words/s, in_qsize 3, out_qsize 0\n",
      "INFO:gensim.models.base_any2vec:EPOCH 17 - PROGRESS: at 98.11% examples, 363321 words/s, in_qsize 3, out_qsize 0\n",
      "DEBUG:gensim.models.base_any2vec:job loop exiting, total 881 jobs\n",
      "DEBUG:gensim.models.base_any2vec:worker exiting, processed 441 jobs\n",
      "INFO:gensim.models.base_any2vec:worker thread finished; awaiting finish of 1 more threads\n",
      "DEBUG:gensim.models.base_any2vec:worker exiting, processed 440 jobs\n",
      "INFO:gensim.models.base_any2vec:worker thread finished; awaiting finish of 0 more threads\n",
      "INFO:gensim.models.base_any2vec:EPOCH - 17 : training on 8802600 raw words (7174269 effective words) took 19.8s, 362647 effective words/s\n",
      "INFO:gensim.models.word2vec:reading file data/processed/trigram/documents.txt\n",
      "DEBUG:smart_open.smart_open_lib:{'uri': 'data/processed/trigram/documents.txt', 'mode': 'rb', 'buffering': -1, 'encoding': None, 'errors': None, 'newline': None, 'closefd': True, 'opener': None, 'compression': 'infer_from_extension', 'transport_params': None}\n",
      "INFO:gensim.models.base_any2vec:EPOCH 18 - PROGRESS: at 3.49% examples, 242456 words/s, in_qsize 3, out_qsize 0\n",
      "INFO:gensim.models.base_any2vec:EPOCH 18 - PROGRESS: at 8.76% examples, 308770 words/s, in_qsize 3, out_qsize 0\n",
      "INFO:gensim.models.base_any2vec:EPOCH 18 - PROGRESS: at 13.66% examples, 325366 words/s, in_qsize 3, out_qsize 0\n",
      "INFO:gensim.models.base_any2vec:EPOCH 18 - PROGRESS: at 18.50% examples, 329066 words/s, in_qsize 3, out_qsize 0\n",
      "INFO:gensim.models.base_any2vec:EPOCH 18 - PROGRESS: at 22.48% examples, 318508 words/s, in_qsize 3, out_qsize 0\n",
      "INFO:gensim.models.base_any2vec:EPOCH 18 - PROGRESS: at 27.67% examples, 322599 words/s, in_qsize 3, out_qsize 0\n",
      "INFO:gensim.models.base_any2vec:EPOCH 18 - PROGRESS: at 32.94% examples, 330613 words/s, in_qsize 3, out_qsize 0\n",
      "INFO:gensim.models.base_any2vec:EPOCH 18 - PROGRESS: at 37.79% examples, 332011 words/s, in_qsize 3, out_qsize 0\n",
      "INFO:gensim.models.base_any2vec:EPOCH 18 - PROGRESS: at 43.29% examples, 339391 words/s, in_qsize 3, out_qsize 0\n",
      "INFO:gensim.models.base_any2vec:EPOCH 18 - PROGRESS: at 47.95% examples, 339784 words/s, in_qsize 3, out_qsize 0\n",
      "INFO:gensim.models.base_any2vec:EPOCH 18 - PROGRESS: at 52.66% examples, 341076 words/s, in_qsize 4, out_qsize 0\n",
      "INFO:gensim.models.base_any2vec:EPOCH 18 - PROGRESS: at 56.48% examples, 334899 words/s, in_qsize 4, out_qsize 0\n",
      "INFO:gensim.models.base_any2vec:EPOCH 18 - PROGRESS: at 61.65% examples, 336095 words/s, in_qsize 3, out_qsize 0\n",
      "INFO:gensim.models.base_any2vec:EPOCH 18 - PROGRESS: at 67.31% examples, 339872 words/s, in_qsize 3, out_qsize 0\n",
      "INFO:gensim.models.base_any2vec:EPOCH 18 - PROGRESS: at 72.55% examples, 341076 words/s, in_qsize 3, out_qsize 0\n",
      "INFO:gensim.models.base_any2vec:EPOCH 18 - PROGRESS: at 77.53% examples, 342554 words/s, in_qsize 3, out_qsize 0\n",
      "INFO:gensim.models.base_any2vec:EPOCH 18 - PROGRESS: at 83.14% examples, 346332 words/s, in_qsize 3, out_qsize 0\n",
      "INFO:gensim.models.base_any2vec:EPOCH 18 - PROGRESS: at 88.77% examples, 349973 words/s, in_qsize 4, out_qsize 0\n",
      "INFO:gensim.models.base_any2vec:EPOCH 18 - PROGRESS: at 92.84% examples, 347371 words/s, in_qsize 3, out_qsize 0\n",
      "INFO:gensim.models.base_any2vec:EPOCH 18 - PROGRESS: at 98.46% examples, 349792 words/s, in_qsize 3, out_qsize 0\n",
      "DEBUG:gensim.models.base_any2vec:job loop exiting, total 881 jobs\n",
      "DEBUG:gensim.models.base_any2vec:worker exiting, processed 440 jobs\n",
      "INFO:gensim.models.base_any2vec:worker thread finished; awaiting finish of 1 more threads\n",
      "DEBUG:gensim.models.base_any2vec:worker exiting, processed 441 jobs\n",
      "INFO:gensim.models.base_any2vec:worker thread finished; awaiting finish of 0 more threads\n",
      "INFO:gensim.models.base_any2vec:EPOCH - 18 : training on 8802600 raw words (7174248 effective words) took 20.5s, 350624 effective words/s\n"
     ]
    },
    {
     "name": "stdout",
     "output_type": "stream",
     "text": [
      "INFO:gensim.models.word2vec:reading file data/processed/trigram/documents.txt\n",
      "DEBUG:smart_open.smart_open_lib:{'uri': 'data/processed/trigram/documents.txt', 'mode': 'rb', 'buffering': -1, 'encoding': None, 'errors': None, 'newline': None, 'closefd': True, 'opener': None, 'compression': 'infer_from_extension', 'transport_params': None}\n",
      "INFO:gensim.models.base_any2vec:EPOCH 19 - PROGRESS: at 5.54% examples, 382224 words/s, in_qsize 3, out_qsize 0\n",
      "INFO:gensim.models.base_any2vec:EPOCH 19 - PROGRESS: at 9.63% examples, 340410 words/s, in_qsize 3, out_qsize 0\n",
      "INFO:gensim.models.base_any2vec:EPOCH 19 - PROGRESS: at 15.13% examples, 359253 words/s, in_qsize 3, out_qsize 0\n",
      "INFO:gensim.models.base_any2vec:EPOCH 19 - PROGRESS: at 20.76% examples, 365591 words/s, in_qsize 3, out_qsize 0\n",
      "INFO:gensim.models.base_any2vec:EPOCH 19 - PROGRESS: at 26.52% examples, 360894 words/s, in_qsize 4, out_qsize 0\n",
      "INFO:gensim.models.base_any2vec:EPOCH 19 - PROGRESS: at 31.49% examples, 358333 words/s, in_qsize 3, out_qsize 0\n",
      "INFO:gensim.models.base_any2vec:EPOCH 19 - PROGRESS: at 37.24% examples, 364007 words/s, in_qsize 4, out_qsize 0\n",
      "INFO:gensim.models.base_any2vec:EPOCH 19 - PROGRESS: at 42.82% examples, 369215 words/s, in_qsize 3, out_qsize 0\n",
      "INFO:gensim.models.base_any2vec:EPOCH 19 - PROGRESS: at 47.08% examples, 362880 words/s, in_qsize 3, out_qsize 0\n",
      "INFO:gensim.models.base_any2vec:EPOCH 19 - PROGRESS: at 52.23% examples, 364991 words/s, in_qsize 3, out_qsize 0\n",
      "INFO:gensim.models.base_any2vec:EPOCH 19 - PROGRESS: at 57.63% examples, 365852 words/s, in_qsize 3, out_qsize 0\n",
      "INFO:gensim.models.base_any2vec:EPOCH 19 - PROGRESS: at 62.32% examples, 362080 words/s, in_qsize 3, out_qsize 0\n",
      "INFO:gensim.models.base_any2vec:EPOCH 19 - PROGRESS: at 68.71% examples, 367546 words/s, in_qsize 3, out_qsize 0\n",
      "INFO:gensim.models.base_any2vec:EPOCH 19 - PROGRESS: at 74.38% examples, 369608 words/s, in_qsize 3, out_qsize 0\n",
      "INFO:gensim.models.base_any2vec:EPOCH 19 - PROGRESS: at 79.05% examples, 368292 words/s, in_qsize 4, out_qsize 0\n",
      "INFO:gensim.models.base_any2vec:EPOCH 19 - PROGRESS: at 83.71% examples, 366148 words/s, in_qsize 3, out_qsize 0\n",
      "INFO:gensim.models.base_any2vec:EPOCH 19 - PROGRESS: at 89.41% examples, 369336 words/s, in_qsize 3, out_qsize 0\n",
      "INFO:gensim.models.base_any2vec:EPOCH 19 - PROGRESS: at 94.81% examples, 369841 words/s, in_qsize 3, out_qsize 0\n",
      "INFO:gensim.models.base_any2vec:EPOCH 19 - PROGRESS: at 99.13% examples, 366953 words/s, in_qsize 4, out_qsize 0\n",
      "DEBUG:gensim.models.base_any2vec:job loop exiting, total 881 jobs\n",
      "DEBUG:gensim.models.base_any2vec:worker exiting, processed 438 jobs\n",
      "INFO:gensim.models.base_any2vec:worker thread finished; awaiting finish of 1 more threads\n",
      "DEBUG:gensim.models.base_any2vec:worker exiting, processed 443 jobs\n",
      "INFO:gensim.models.base_any2vec:worker thread finished; awaiting finish of 0 more threads\n",
      "INFO:gensim.models.base_any2vec:EPOCH - 19 : training on 8802600 raw words (7174325 effective words) took 19.5s, 367685 effective words/s\n",
      "INFO:gensim.models.word2vec:reading file data/processed/trigram/documents.txt\n",
      "DEBUG:smart_open.smart_open_lib:{'uri': 'data/processed/trigram/documents.txt', 'mode': 'rb', 'buffering': -1, 'encoding': None, 'errors': None, 'newline': None, 'closefd': True, 'opener': None, 'compression': 'infer_from_extension', 'transport_params': None}\n",
      "INFO:gensim.models.base_any2vec:EPOCH 20 - PROGRESS: at 5.43% examples, 377602 words/s, in_qsize 4, out_qsize 0\n",
      "INFO:gensim.models.base_any2vec:EPOCH 20 - PROGRESS: at 11.13% examples, 390958 words/s, in_qsize 4, out_qsize 0\n",
      "INFO:gensim.models.base_any2vec:EPOCH 20 - PROGRESS: at 16.06% examples, 357581 words/s, in_qsize 3, out_qsize 0\n",
      "INFO:gensim.models.base_any2vec:EPOCH 20 - PROGRESS: at 21.11% examples, 353871 words/s, in_qsize 3, out_qsize 0\n",
      "INFO:gensim.models.base_any2vec:EPOCH 20 - PROGRESS: at 26.98% examples, 362817 words/s, in_qsize 3, out_qsize 0\n",
      "INFO:gensim.models.base_any2vec:EPOCH 20 - PROGRESS: at 32.49% examples, 368531 words/s, in_qsize 3, out_qsize 0\n",
      "INFO:gensim.models.base_any2vec:EPOCH 20 - PROGRESS: at 37.03% examples, 362198 words/s, in_qsize 3, out_qsize 0\n",
      "INFO:gensim.models.base_any2vec:EPOCH 20 - PROGRESS: at 43.55% examples, 375375 words/s, in_qsize 3, out_qsize 0\n",
      "INFO:gensim.models.base_any2vec:EPOCH 20 - PROGRESS: at 50.22% examples, 387732 words/s, in_qsize 3, out_qsize 0\n",
      "INFO:gensim.models.base_any2vec:EPOCH 20 - PROGRESS: at 56.36% examples, 392167 words/s, in_qsize 3, out_qsize 0\n",
      "INFO:gensim.models.base_any2vec:EPOCH 20 - PROGRESS: at 63.38% examples, 398861 words/s, in_qsize 4, out_qsize 0\n",
      "INFO:gensim.models.base_any2vec:EPOCH 20 - PROGRESS: at 69.73% examples, 402032 words/s, in_qsize 3, out_qsize 0\n",
      "INFO:gensim.models.base_any2vec:EPOCH 20 - PROGRESS: at 75.13% examples, 400523 words/s, in_qsize 3, out_qsize 0\n",
      "INFO:gensim.models.base_any2vec:EPOCH 20 - PROGRESS: at 81.81% examples, 406710 words/s, in_qsize 3, out_qsize 0\n",
      "INFO:gensim.models.base_any2vec:EPOCH 20 - PROGRESS: at 87.92% examples, 408737 words/s, in_qsize 4, out_qsize 0\n",
      "INFO:gensim.models.base_any2vec:EPOCH 20 - PROGRESS: at 90.83% examples, 396935 words/s, in_qsize 4, out_qsize 0\n",
      "INFO:gensim.models.base_any2vec:EPOCH 20 - PROGRESS: at 94.08% examples, 386629 words/s, in_qsize 3, out_qsize 0\n",
      "INFO:gensim.models.base_any2vec:EPOCH 20 - PROGRESS: at 97.53% examples, 379117 words/s, in_qsize 3, out_qsize 0\n",
      "DEBUG:gensim.models.base_any2vec:job loop exiting, total 881 jobs\n",
      "DEBUG:gensim.models.base_any2vec:worker exiting, processed 441 jobs\n",
      "INFO:gensim.models.base_any2vec:worker thread finished; awaiting finish of 1 more threads\n",
      "DEBUG:gensim.models.base_any2vec:worker exiting, processed 440 jobs\n",
      "INFO:gensim.models.base_any2vec:worker thread finished; awaiting finish of 0 more threads\n",
      "INFO:gensim.models.base_any2vec:EPOCH - 20 : training on 8802600 raw words (7173255 effective words) took 19.2s, 374320 effective words/s\n",
      "INFO:gensim.models.base_any2vec:training on a 176052000 raw words (143481842 effective words) took 405.9s, 353534 effective words/s\n",
      "INFO:gensim.utils:saving Word2Vec object under models/w2v/w2v.mod, separately None\n",
      "INFO:gensim.utils:storing np array 'vectors' to models/w2v/w2v.mod.wv.vectors.npy\n",
      "INFO:gensim.utils:not storing attribute vectors_norm\n",
      "INFO:gensim.utils:storing np array 'syn1neg' to models/w2v/w2v.mod.trainables.syn1neg.npy\n",
      "INFO:gensim.utils:not storing attribute cum_table\n",
      "DEBUG:smart_open.smart_open_lib:{'uri': 'models/w2v/w2v.mod', 'mode': 'wb', 'buffering': -1, 'encoding': None, 'errors': None, 'newline': None, 'closefd': True, 'opener': None, 'compression': 'infer_from_extension', 'transport_params': None}\n",
      "INFO:gensim.utils:saved models/w2v/w2v.mod\n"
     ]
    }
   ],
   "source": [
    "%run clean_and_train.py"
   ]
  },
  {
   "cell_type": "code",
   "execution_count": 1,
   "id": "cefdb53d",
   "metadata": {},
   "outputs": [
    {
     "name": "stdout",
     "output_type": "stream",
     "text": [
      "Vocab size in the w2v model: 57115\n",
      "Dictionary created. \n",
      "Dictionary deduplicated. \n",
      "Dictionary saved at outputs/dict/expanded_dict.csv\n"
     ]
    }
   ],
   "source": [
    "%run create_dict.py"
   ]
  },
  {
   "cell_type": "code",
   "execution_count": null,
   "id": "0b96a80b",
   "metadata": {},
   "outputs": [],
   "source": []
  }
 ],
 "metadata": {
  "kernelspec": {
   "display_name": "Python 3 (ipykernel)",
   "language": "python",
   "name": "python3"
  },
  "language_info": {
   "codemirror_mode": {
    "name": "ipython",
    "version": 3
   },
   "file_extension": ".py",
   "mimetype": "text/x-python",
   "name": "python",
   "nbconvert_exporter": "python",
   "pygments_lexer": "ipython3",
   "version": "3.9.7"
  }
 },
 "nbformat": 4,
 "nbformat_minor": 5
}
